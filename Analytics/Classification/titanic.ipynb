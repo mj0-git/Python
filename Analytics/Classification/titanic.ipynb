{
 "cells": [
  {
   "cell_type": "markdown",
   "metadata": {},
   "source": [
    "# Titanic Dataset\n",
    "\n",
    "Titanic dataset fetched from kaggle: https://www.kaggle.com/c/titanic\n",
    "\n",
    "The goal is to correctly predict if a passenger survived the titain shipwreck.\n",
    "\n",
    "Below is a walkthrough of imploying EDA and scikit-learn classification algorithms to predict results."
   ]
  },
  {
   "cell_type": "code",
   "execution_count": 23,
   "metadata": {
    "execution": {
     "iopub.execute_input": "2022-02-02T20:46:55.344041Z",
     "iopub.status.busy": "2022-02-02T20:46:55.343728Z",
     "iopub.status.idle": "2022-02-02T20:46:55.348459Z",
     "shell.execute_reply": "2022-02-02T20:46:55.347690Z",
     "shell.execute_reply.started": "2022-02-02T20:46:55.344008Z"
    }
   },
   "outputs": [],
   "source": [
    "import pandas as pd\n",
    "import matplotlib.pyplot as plt\n",
    "import numpy as np\n",
    "import seaborn as sns\n",
    "import warnings\n",
    "warnings.filterwarnings('ignore')"
   ]
  },
  {
   "cell_type": "code",
   "execution_count": 24,
   "metadata": {
    "execution": {
     "iopub.execute_input": "2022-02-02T20:46:55.368660Z",
     "iopub.status.busy": "2022-02-02T20:46:55.368435Z",
     "iopub.status.idle": "2022-02-02T20:46:55.386109Z",
     "shell.execute_reply": "2022-02-02T20:46:55.385454Z",
     "shell.execute_reply.started": "2022-02-02T20:46:55.368632Z"
    }
   },
   "outputs": [],
   "source": [
    "train = pd.read_csv(\"data/train.csv\")\n",
    "test =  pd.read_csv(\"data/test.csv\")"
   ]
  },
  {
   "cell_type": "markdown",
   "metadata": {},
   "source": [
    "# Data Overview"
   ]
  },
  {
   "cell_type": "code",
   "execution_count": 25,
   "metadata": {
    "execution": {
     "iopub.execute_input": "2022-02-02T20:46:55.388231Z",
     "iopub.status.busy": "2022-02-02T20:46:55.387515Z",
     "iopub.status.idle": "2022-02-02T20:46:55.404030Z",
     "shell.execute_reply": "2022-02-02T20:46:55.403196Z",
     "shell.execute_reply.started": "2022-02-02T20:46:55.388190Z"
    }
   },
   "outputs": [
    {
     "data": {
      "text/html": [
       "<div>\n",
       "<style scoped>\n",
       "    .dataframe tbody tr th:only-of-type {\n",
       "        vertical-align: middle;\n",
       "    }\n",
       "\n",
       "    .dataframe tbody tr th {\n",
       "        vertical-align: top;\n",
       "    }\n",
       "\n",
       "    .dataframe thead th {\n",
       "        text-align: right;\n",
       "    }\n",
       "</style>\n",
       "<table border=\"1\" class=\"dataframe\">\n",
       "  <thead>\n",
       "    <tr style=\"text-align: right;\">\n",
       "      <th></th>\n",
       "      <th>PassengerId</th>\n",
       "      <th>Survived</th>\n",
       "      <th>Pclass</th>\n",
       "      <th>Name</th>\n",
       "      <th>Sex</th>\n",
       "      <th>Age</th>\n",
       "      <th>SibSp</th>\n",
       "      <th>Parch</th>\n",
       "      <th>Ticket</th>\n",
       "      <th>Fare</th>\n",
       "      <th>Cabin</th>\n",
       "      <th>Embarked</th>\n",
       "    </tr>\n",
       "  </thead>\n",
       "  <tbody>\n",
       "    <tr>\n",
       "      <th>0</th>\n",
       "      <td>1</td>\n",
       "      <td>0</td>\n",
       "      <td>3</td>\n",
       "      <td>Braund, Mr. Owen Harris</td>\n",
       "      <td>male</td>\n",
       "      <td>22.0</td>\n",
       "      <td>1</td>\n",
       "      <td>0</td>\n",
       "      <td>A/5 21171</td>\n",
       "      <td>7.2500</td>\n",
       "      <td>NaN</td>\n",
       "      <td>S</td>\n",
       "    </tr>\n",
       "    <tr>\n",
       "      <th>1</th>\n",
       "      <td>2</td>\n",
       "      <td>1</td>\n",
       "      <td>1</td>\n",
       "      <td>Cumings, Mrs. John Bradley (Florence Briggs Th...</td>\n",
       "      <td>female</td>\n",
       "      <td>38.0</td>\n",
       "      <td>1</td>\n",
       "      <td>0</td>\n",
       "      <td>PC 17599</td>\n",
       "      <td>71.2833</td>\n",
       "      <td>C85</td>\n",
       "      <td>C</td>\n",
       "    </tr>\n",
       "    <tr>\n",
       "      <th>2</th>\n",
       "      <td>3</td>\n",
       "      <td>1</td>\n",
       "      <td>3</td>\n",
       "      <td>Heikkinen, Miss. Laina</td>\n",
       "      <td>female</td>\n",
       "      <td>26.0</td>\n",
       "      <td>0</td>\n",
       "      <td>0</td>\n",
       "      <td>STON/O2. 3101282</td>\n",
       "      <td>7.9250</td>\n",
       "      <td>NaN</td>\n",
       "      <td>S</td>\n",
       "    </tr>\n",
       "    <tr>\n",
       "      <th>3</th>\n",
       "      <td>4</td>\n",
       "      <td>1</td>\n",
       "      <td>1</td>\n",
       "      <td>Futrelle, Mrs. Jacques Heath (Lily May Peel)</td>\n",
       "      <td>female</td>\n",
       "      <td>35.0</td>\n",
       "      <td>1</td>\n",
       "      <td>0</td>\n",
       "      <td>113803</td>\n",
       "      <td>53.1000</td>\n",
       "      <td>C123</td>\n",
       "      <td>S</td>\n",
       "    </tr>\n",
       "    <tr>\n",
       "      <th>4</th>\n",
       "      <td>5</td>\n",
       "      <td>0</td>\n",
       "      <td>3</td>\n",
       "      <td>Allen, Mr. William Henry</td>\n",
       "      <td>male</td>\n",
       "      <td>35.0</td>\n",
       "      <td>0</td>\n",
       "      <td>0</td>\n",
       "      <td>373450</td>\n",
       "      <td>8.0500</td>\n",
       "      <td>NaN</td>\n",
       "      <td>S</td>\n",
       "    </tr>\n",
       "  </tbody>\n",
       "</table>\n",
       "</div>"
      ],
      "text/plain": [
       "   PassengerId  Survived  Pclass  \\\n",
       "0            1         0       3   \n",
       "1            2         1       1   \n",
       "2            3         1       3   \n",
       "3            4         1       1   \n",
       "4            5         0       3   \n",
       "\n",
       "                                                Name     Sex   Age  SibSp  \\\n",
       "0                            Braund, Mr. Owen Harris    male  22.0      1   \n",
       "1  Cumings, Mrs. John Bradley (Florence Briggs Th...  female  38.0      1   \n",
       "2                             Heikkinen, Miss. Laina  female  26.0      0   \n",
       "3       Futrelle, Mrs. Jacques Heath (Lily May Peel)  female  35.0      1   \n",
       "4                           Allen, Mr. William Henry    male  35.0      0   \n",
       "\n",
       "   Parch            Ticket     Fare Cabin Embarked  \n",
       "0      0         A/5 21171   7.2500   NaN        S  \n",
       "1      0          PC 17599  71.2833   C85        C  \n",
       "2      0  STON/O2. 3101282   7.9250   NaN        S  \n",
       "3      0            113803  53.1000  C123        S  \n",
       "4      0            373450   8.0500   NaN        S  "
      ]
     },
     "execution_count": 25,
     "metadata": {},
     "output_type": "execute_result"
    }
   ],
   "source": [
    "train.head()"
   ]
  },
  {
   "cell_type": "code",
   "execution_count": 26,
   "metadata": {
    "execution": {
     "iopub.execute_input": "2022-02-02T20:46:55.406506Z",
     "iopub.status.busy": "2022-02-02T20:46:55.406179Z",
     "iopub.status.idle": "2022-02-02T20:46:55.424792Z",
     "shell.execute_reply": "2022-02-02T20:46:55.424131Z",
     "shell.execute_reply.started": "2022-02-02T20:46:55.406425Z"
    }
   },
   "outputs": [
    {
     "name": "stdout",
     "output_type": "stream",
     "text": [
      "<class 'pandas.core.frame.DataFrame'>\n",
      "RangeIndex: 891 entries, 0 to 890\n",
      "Data columns (total 12 columns):\n",
      " #   Column       Non-Null Count  Dtype  \n",
      "---  ------       --------------  -----  \n",
      " 0   PassengerId  891 non-null    int64  \n",
      " 1   Survived     891 non-null    int64  \n",
      " 2   Pclass       891 non-null    int64  \n",
      " 3   Name         891 non-null    object \n",
      " 4   Sex          891 non-null    object \n",
      " 5   Age          714 non-null    float64\n",
      " 6   SibSp        891 non-null    int64  \n",
      " 7   Parch        891 non-null    int64  \n",
      " 8   Ticket       891 non-null    object \n",
      " 9   Fare         891 non-null    float64\n",
      " 10  Cabin        204 non-null    object \n",
      " 11  Embarked     889 non-null    object \n",
      "dtypes: float64(2), int64(5), object(5)\n",
      "memory usage: 83.7+ KB\n"
     ]
    }
   ],
   "source": [
    "train.info() "
   ]
  },
  {
   "cell_type": "code",
   "execution_count": 27,
   "metadata": {
    "execution": {
     "iopub.execute_input": "2022-02-02T20:46:55.426449Z",
     "iopub.status.busy": "2022-02-02T20:46:55.425805Z",
     "iopub.status.idle": "2022-02-02T20:46:55.456167Z",
     "shell.execute_reply": "2022-02-02T20:46:55.455211Z",
     "shell.execute_reply.started": "2022-02-02T20:46:55.426413Z"
    }
   },
   "outputs": [
    {
     "data": {
      "text/html": [
       "<div>\n",
       "<style scoped>\n",
       "    .dataframe tbody tr th:only-of-type {\n",
       "        vertical-align: middle;\n",
       "    }\n",
       "\n",
       "    .dataframe tbody tr th {\n",
       "        vertical-align: top;\n",
       "    }\n",
       "\n",
       "    .dataframe thead th {\n",
       "        text-align: right;\n",
       "    }\n",
       "</style>\n",
       "<table border=\"1\" class=\"dataframe\">\n",
       "  <thead>\n",
       "    <tr style=\"text-align: right;\">\n",
       "      <th></th>\n",
       "      <th>PassengerId</th>\n",
       "      <th>Survived</th>\n",
       "      <th>Pclass</th>\n",
       "      <th>Age</th>\n",
       "      <th>SibSp</th>\n",
       "      <th>Parch</th>\n",
       "      <th>Fare</th>\n",
       "    </tr>\n",
       "  </thead>\n",
       "  <tbody>\n",
       "    <tr>\n",
       "      <th>count</th>\n",
       "      <td>891.000000</td>\n",
       "      <td>891.000000</td>\n",
       "      <td>891.000000</td>\n",
       "      <td>714.000000</td>\n",
       "      <td>891.000000</td>\n",
       "      <td>891.000000</td>\n",
       "      <td>891.000000</td>\n",
       "    </tr>\n",
       "    <tr>\n",
       "      <th>mean</th>\n",
       "      <td>446.000000</td>\n",
       "      <td>0.383838</td>\n",
       "      <td>2.308642</td>\n",
       "      <td>29.699118</td>\n",
       "      <td>0.523008</td>\n",
       "      <td>0.381594</td>\n",
       "      <td>32.204208</td>\n",
       "    </tr>\n",
       "    <tr>\n",
       "      <th>std</th>\n",
       "      <td>257.353842</td>\n",
       "      <td>0.486592</td>\n",
       "      <td>0.836071</td>\n",
       "      <td>14.526497</td>\n",
       "      <td>1.102743</td>\n",
       "      <td>0.806057</td>\n",
       "      <td>49.693429</td>\n",
       "    </tr>\n",
       "    <tr>\n",
       "      <th>min</th>\n",
       "      <td>1.000000</td>\n",
       "      <td>0.000000</td>\n",
       "      <td>1.000000</td>\n",
       "      <td>0.420000</td>\n",
       "      <td>0.000000</td>\n",
       "      <td>0.000000</td>\n",
       "      <td>0.000000</td>\n",
       "    </tr>\n",
       "    <tr>\n",
       "      <th>25%</th>\n",
       "      <td>223.500000</td>\n",
       "      <td>0.000000</td>\n",
       "      <td>2.000000</td>\n",
       "      <td>20.125000</td>\n",
       "      <td>0.000000</td>\n",
       "      <td>0.000000</td>\n",
       "      <td>7.910400</td>\n",
       "    </tr>\n",
       "    <tr>\n",
       "      <th>50%</th>\n",
       "      <td>446.000000</td>\n",
       "      <td>0.000000</td>\n",
       "      <td>3.000000</td>\n",
       "      <td>28.000000</td>\n",
       "      <td>0.000000</td>\n",
       "      <td>0.000000</td>\n",
       "      <td>14.454200</td>\n",
       "    </tr>\n",
       "    <tr>\n",
       "      <th>75%</th>\n",
       "      <td>668.500000</td>\n",
       "      <td>1.000000</td>\n",
       "      <td>3.000000</td>\n",
       "      <td>38.000000</td>\n",
       "      <td>1.000000</td>\n",
       "      <td>0.000000</td>\n",
       "      <td>31.000000</td>\n",
       "    </tr>\n",
       "    <tr>\n",
       "      <th>max</th>\n",
       "      <td>891.000000</td>\n",
       "      <td>1.000000</td>\n",
       "      <td>3.000000</td>\n",
       "      <td>80.000000</td>\n",
       "      <td>8.000000</td>\n",
       "      <td>6.000000</td>\n",
       "      <td>512.329200</td>\n",
       "    </tr>\n",
       "  </tbody>\n",
       "</table>\n",
       "</div>"
      ],
      "text/plain": [
       "       PassengerId    Survived      Pclass         Age       SibSp  \\\n",
       "count   891.000000  891.000000  891.000000  714.000000  891.000000   \n",
       "mean    446.000000    0.383838    2.308642   29.699118    0.523008   \n",
       "std     257.353842    0.486592    0.836071   14.526497    1.102743   \n",
       "min       1.000000    0.000000    1.000000    0.420000    0.000000   \n",
       "25%     223.500000    0.000000    2.000000   20.125000    0.000000   \n",
       "50%     446.000000    0.000000    3.000000   28.000000    0.000000   \n",
       "75%     668.500000    1.000000    3.000000   38.000000    1.000000   \n",
       "max     891.000000    1.000000    3.000000   80.000000    8.000000   \n",
       "\n",
       "            Parch        Fare  \n",
       "count  891.000000  891.000000  \n",
       "mean     0.381594   32.204208  \n",
       "std      0.806057   49.693429  \n",
       "min      0.000000    0.000000  \n",
       "25%      0.000000    7.910400  \n",
       "50%      0.000000   14.454200  \n",
       "75%      0.000000   31.000000  \n",
       "max      6.000000  512.329200  "
      ]
     },
     "execution_count": 27,
     "metadata": {},
     "output_type": "execute_result"
    }
   ],
   "source": [
    "train.describe()"
   ]
  },
  {
   "cell_type": "code",
   "execution_count": 28,
   "metadata": {
    "execution": {
     "iopub.execute_input": "2022-02-02T20:46:55.457883Z",
     "iopub.status.busy": "2022-02-02T20:46:55.457516Z",
     "iopub.status.idle": "2022-02-02T20:46:55.465754Z",
     "shell.execute_reply": "2022-02-02T20:46:55.464959Z",
     "shell.execute_reply.started": "2022-02-02T20:46:55.457837Z"
    }
   },
   "outputs": [
    {
     "data": {
      "text/plain": [
       "PassengerId      0\n",
       "Survived         0\n",
       "Pclass           0\n",
       "Name             0\n",
       "Sex              0\n",
       "Age            177\n",
       "SibSp            0\n",
       "Parch            0\n",
       "Ticket           0\n",
       "Fare             0\n",
       "Cabin          687\n",
       "Embarked         2\n",
       "dtype: int64"
      ]
     },
     "execution_count": 28,
     "metadata": {},
     "output_type": "execute_result"
    }
   ],
   "source": [
    "train.isna().sum()"
   ]
  },
  {
   "cell_type": "markdown",
   "metadata": {},
   "source": [
    "### Summary: \n",
    "\n",
    "1. Missing values: Age(177), Cabin(687), Embarked(2)\n",
    "2. Numerical vars: Age,SibSp, Parch, Fare\n",
    "3. Categorical vars: Sex, Embarked, Pclass"
   ]
  },
  {
   "cell_type": "markdown",
   "metadata": {},
   "source": [
    "# Exploratory Data Analysis\n",
    "\n",
    "Split columns into numerical and categorical types and visualize data to search for meaningful relationships"
   ]
  },
  {
   "cell_type": "markdown",
   "metadata": {},
   "source": [
    "## Numerical Anaylsis"
   ]
  },
  {
   "cell_type": "code",
   "execution_count": 29,
   "metadata": {
    "execution": {
     "iopub.execute_input": "2022-02-02T20:46:55.467328Z",
     "iopub.status.busy": "2022-02-02T20:46:55.467101Z",
     "iopub.status.idle": "2022-02-02T20:46:55.479073Z",
     "shell.execute_reply": "2022-02-02T20:46:55.478150Z",
     "shell.execute_reply.started": "2022-02-02T20:46:55.467299Z"
    }
   },
   "outputs": [],
   "source": [
    "col_num = ['Age','SibSp', 'Parch', 'Fare']"
   ]
  },
  {
   "cell_type": "code",
   "execution_count": 30,
   "metadata": {
    "execution": {
     "iopub.execute_input": "2022-02-02T20:46:55.481951Z",
     "iopub.status.busy": "2022-02-02T20:46:55.481700Z",
     "iopub.status.idle": "2022-02-02T20:46:56.679749Z",
     "shell.execute_reply": "2022-02-02T20:46:56.678908Z",
     "shell.execute_reply.started": "2022-02-02T20:46:55.481921Z"
    }
   },
   "outputs": [
    {
     "data": {
      "image/png": "[encoded data removed]",
      "text/plain": [
       "<Figure size 2160x432 with 4 Axes>"
      ]
     },
     "metadata": {},
     "output_type": "display_data"
    }
   ],
   "source": [
    "sns.set_palette(\"colorblind\")\n",
    "fig, ax = plt.subplots(1,4, figsize=(30,6))\n",
    "for idx,col in enumerate(col_num):\n",
    "    sns.distplot(train[col], ax=ax[idx])"
   ]
  },
  {
   "cell_type": "code",
   "execution_count": 31,
   "metadata": {
    "execution": {
     "iopub.execute_input": "2022-02-02T20:46:56.681395Z",
     "iopub.status.busy": "2022-02-02T20:46:56.681184Z",
     "iopub.status.idle": "2022-02-02T20:46:57.348370Z",
     "shell.execute_reply": "2022-02-02T20:46:57.347699Z",
     "shell.execute_reply.started": "2022-02-02T20:46:56.681360Z"
    }
   },
   "outputs": [
    {
     "data": {
      "text/plain": [
       "<seaborn.axisgrid.FacetGrid at 0x7f9f0a9865e0>"
      ]
     },
     "execution_count": 31,
     "metadata": {},
     "output_type": "execute_result"
    },
    {
     "data": {
      "image/png": "[encoded data removed]",
      "text/plain": [
       "<Figure size 432x216 with 2 Axes>"
      ]
     },
     "metadata": {},
     "output_type": "display_data"
    }
   ],
   "source": [
    "g = sns.FacetGrid(train, col='Survived')\n",
    "g.map(plt.hist, 'Age', alpha=0.5)"
   ]
  },
  {
   "cell_type": "code",
   "execution_count": 32,
   "metadata": {
    "execution": {
     "iopub.execute_input": "2022-02-02T20:46:57.349928Z",
     "iopub.status.busy": "2022-02-02T20:46:57.349314Z",
     "iopub.status.idle": "2022-02-02T20:46:57.370120Z",
     "shell.execute_reply": "2022-02-02T20:46:57.369238Z",
     "shell.execute_reply.started": "2022-02-02T20:46:57.349894Z"
    }
   },
   "outputs": [
    {
     "data": {
      "text/html": [
       "<div>\n",
       "<style scoped>\n",
       "    .dataframe tbody tr th:only-of-type {\n",
       "        vertical-align: middle;\n",
       "    }\n",
       "\n",
       "    .dataframe tbody tr th {\n",
       "        vertical-align: top;\n",
       "    }\n",
       "\n",
       "    .dataframe thead th {\n",
       "        text-align: right;\n",
       "    }\n",
       "</style>\n",
       "<table border=\"1\" class=\"dataframe\">\n",
       "  <thead>\n",
       "    <tr style=\"text-align: right;\">\n",
       "      <th></th>\n",
       "      <th>Age</th>\n",
       "      <th>Fare</th>\n",
       "      <th>Parch</th>\n",
       "      <th>SibSp</th>\n",
       "    </tr>\n",
       "    <tr>\n",
       "      <th>Survived</th>\n",
       "      <th></th>\n",
       "      <th></th>\n",
       "      <th></th>\n",
       "      <th></th>\n",
       "    </tr>\n",
       "  </thead>\n",
       "  <tbody>\n",
       "    <tr>\n",
       "      <th>0</th>\n",
       "      <td>30.626179</td>\n",
       "      <td>22.117887</td>\n",
       "      <td>0.329690</td>\n",
       "      <td>0.553734</td>\n",
       "    </tr>\n",
       "    <tr>\n",
       "      <th>1</th>\n",
       "      <td>28.343690</td>\n",
       "      <td>48.395408</td>\n",
       "      <td>0.464912</td>\n",
       "      <td>0.473684</td>\n",
       "    </tr>\n",
       "  </tbody>\n",
       "</table>\n",
       "</div>"
      ],
      "text/plain": [
       "                Age       Fare     Parch     SibSp\n",
       "Survived                                          \n",
       "0         30.626179  22.117887  0.329690  0.553734\n",
       "1         28.343690  48.395408  0.464912  0.473684"
      ]
     },
     "execution_count": 32,
     "metadata": {},
     "output_type": "execute_result"
    }
   ],
   "source": [
    "pd.pivot_table(train, index='Survived', values=col_num)"
   ]
  },
  {
   "cell_type": "code",
   "execution_count": 33,
   "metadata": {
    "execution": {
     "iopub.execute_input": "2022-02-02T20:46:57.372377Z",
     "iopub.status.busy": "2022-02-02T20:46:57.371927Z",
     "iopub.status.idle": "2022-02-02T20:46:57.649353Z",
     "shell.execute_reply": "2022-02-02T20:46:57.648526Z",
     "shell.execute_reply.started": "2022-02-02T20:46:57.372332Z"
    }
   },
   "outputs": [
    {
     "name": "stdout",
     "output_type": "stream",
     "text": [
      "            Age     SibSp     Parch      Fare\n",
      "Age    1.000000 -0.308247 -0.189119  0.096067\n",
      "SibSp -0.308247  1.000000  0.414838  0.159651\n",
      "Parch -0.189119  0.414838  1.000000  0.216225\n",
      "Fare   0.096067  0.159651  0.216225  1.000000\n"
     ]
    },
    {
     "data": {
      "text/plain": [
       "<AxesSubplot:>"
      ]
     },
     "execution_count": 33,
     "metadata": {},
     "output_type": "execute_result"
    },
    {
     "data": {
      "image/png": "[encoded data removed]",
      "text/plain": [
       "<Figure size 432x288 with 2 Axes>"
      ]
     },
     "metadata": {},
     "output_type": "display_data"
    }
   ],
   "source": [
    "print(train[col_num].corr())\n",
    "sns.heatmap(train[col_num].corr())"
   ]
  },
  {
   "cell_type": "markdown",
   "metadata": {},
   "source": [
    "### Summary: \n",
    "\n",
    "1. Age is normally distributed\n",
    "2. Right skew found in taking \"Age\" dependent on \"Survived\" : more younger people died\n",
    "3. Fare is right skewed and needs to be normalized\n",
    "4. Mean average of fare paid is higher for passengers who survived then those who died"
   ]
  },
  {
   "cell_type": "markdown",
   "metadata": {},
   "source": [
    "## Categorical Analysis"
   ]
  },
  {
   "cell_type": "code",
   "execution_count": 34,
   "metadata": {
    "execution": {
     "iopub.execute_input": "2022-02-02T20:46:57.651319Z",
     "iopub.status.busy": "2022-02-02T20:46:57.650585Z",
     "iopub.status.idle": "2022-02-02T20:46:57.655996Z",
     "shell.execute_reply": "2022-02-02T20:46:57.655031Z",
     "shell.execute_reply.started": "2022-02-02T20:46:57.651256Z"
    }
   },
   "outputs": [],
   "source": [
    "col_cat = ['Sex', 'Embarked','Pclass']"
   ]
  },
  {
   "cell_type": "code",
   "execution_count": 35,
   "metadata": {
    "execution": {
     "iopub.execute_input": "2022-02-02T20:46:57.657956Z",
     "iopub.status.busy": "2022-02-02T20:46:57.657433Z",
     "iopub.status.idle": "2022-02-02T20:46:58.151601Z",
     "shell.execute_reply": "2022-02-02T20:46:58.150565Z",
     "shell.execute_reply.started": "2022-02-02T20:46:57.657912Z"
    }
   },
   "outputs": [
    {
     "data": {
      "image/png": "[encoded data removed]",
      "text/plain": [
       "<Figure size 1440x432 with 3 Axes>"
      ]
     },
     "metadata": {},
     "output_type": "display_data"
    }
   ],
   "source": [
    "sns.set_style(\"whitegrid\")\n",
    "fig, ax = plt.subplots(1,len(col_cat), figsize=(20,6))\n",
    "for idx, col in enumerate(col_cat):\n",
    "    sns.countplot(x=col, data=train, ax=ax[idx], hue=\"Survived\")\n",
    "\n",
    "plt.show()"
   ]
  },
  {
   "cell_type": "markdown",
   "metadata": {},
   "source": [
    "### Summary: \n",
    "\n",
    "1. More males died then females\n",
    "2. Pclass looks ordinal: 1 < 2 < 3 $\\rightarrow$  coach < business < first"
   ]
  },
  {
   "cell_type": "markdown",
   "metadata": {},
   "source": [
    "## Feature Engineering\n",
    "\n",
    "From above EDA, use features for modeling [Sex, Pclass, Age, Fare]. However need to perform the following prior modeling\n",
    "\n",
    "1. Normalize Fare to avoid overfitting\n",
    "2. Impute Age NAs with the median age of associated class and gender\n",
    "3. Normalize Age to avoid overfitting\n",
    "\n",
    "\n",
    "### 1. Normalize Fare"
   ]
  },
  {
   "cell_type": "code",
   "execution_count": 36,
   "metadata": {
    "execution": {
     "iopub.execute_input": "2022-02-02T20:46:58.153712Z",
     "iopub.status.busy": "2022-02-02T20:46:58.153405Z",
     "iopub.status.idle": "2022-02-02T20:46:58.168991Z",
     "shell.execute_reply": "2022-02-02T20:46:58.168020Z",
     "shell.execute_reply.started": "2022-02-02T20:46:58.153670Z"
    }
   },
   "outputs": [
    {
     "name": "stdout",
     "output_type": "stream",
     "text": [
      "Coach: 373, Business: 278, First: 240\n"
     ]
    }
   ],
   "source": [
    "#print(train[\"Fare\"].describe())\n",
    "coach = train[train[\"Fare\"] < 12]\n",
    "business = train[(train[\"Fare\"] >= 12) & (train[\"Fare\"] < 30)]\n",
    "first = train[(train[\"Fare\"] >= 30)]\n",
    "\n",
    "def adjust_price(x):\n",
    "    if x < 12: \n",
    "        return 0\n",
    "    elif  30 > x >= 12:\n",
    "        return 1\n",
    "    elif  x >= 30:\n",
    "        return 2\n",
    "\n",
    "train[\"Fare\"] = train[\"Fare\"].apply(adjust_price)\n",
    "test[\"Fare\"] = train[\"Fare\"].apply(adjust_price)\n",
    "\n",
    "print(\"Coach: {0}, Business: {1}, First: {2}\".format(len(coach), len(business), len(first) ))"
   ]
  },
  {
   "cell_type": "code",
   "execution_count": 37,
   "metadata": {
    "execution": {
     "iopub.execute_input": "2022-02-02T20:46:58.170957Z",
     "iopub.status.busy": "2022-02-02T20:46:58.170699Z",
     "iopub.status.idle": "2022-02-02T20:46:58.423193Z",
     "shell.execute_reply": "2022-02-02T20:46:58.422319Z",
     "shell.execute_reply.started": "2022-02-02T20:46:58.170927Z"
    }
   },
   "outputs": [
    {
     "data": {
      "text/plain": [
       "<AxesSubplot:xlabel='Fare', ylabel='count'>"
      ]
     },
     "execution_count": 37,
     "metadata": {},
     "output_type": "execute_result"
    },
    {
     "data": {
      "image/png": "[encoded data removed]",
      "text/plain": [
       "<Figure size 432x288 with 1 Axes>"
      ]
     },
     "metadata": {},
     "output_type": "display_data"
    }
   ],
   "source": [
    "sns.countplot(x=\"Fare\", data=train, hue=\"Survived\")"
   ]
  },
  {
   "cell_type": "markdown",
   "metadata": {},
   "source": [
    "### 2. Impute Age NAs"
   ]
  },
  {
   "cell_type": "code",
   "execution_count": 38,
   "metadata": {
    "execution": {
     "iopub.execute_input": "2022-02-02T20:46:58.425000Z",
     "iopub.status.busy": "2022-02-02T20:46:58.424468Z",
     "iopub.status.idle": "2022-02-02T20:46:58.466054Z",
     "shell.execute_reply": "2022-02-02T20:46:58.465289Z",
     "shell.execute_reply.started": "2022-02-02T20:46:58.424964Z"
    }
   },
   "outputs": [],
   "source": [
    "for x in [1,2,3]:\n",
    "    for y in [\"male\", \"female\"]:\n",
    "        # Train \n",
    "        mean_age = train[~pd.isnull(train[\"Age\"]) & (train[\"Sex\"] == y) & (train[\"Pclass\"] == x)].Age.median()\n",
    "        train.loc[pd.isnull(train[\"Age\"]) & (train[\"Sex\"] == y) & (train[\"Pclass\"] == x), \"Age\"] = mean_age \n",
    "        \n",
    "        # Test\n",
    "        mean_age = test[ ~pd.isnull(test[\"Age\"]) & (test[\"Sex\"] == y) & (test[\"Pclass\"] == x)].Age.median()\n",
    "        test.loc[pd.isnull(test[\"Age\"]) & (test[\"Sex\"] == y) & (test[\"Pclass\"] == x), \"Age\"] = mean_age"
   ]
  },
  {
   "cell_type": "markdown",
   "metadata": {},
   "source": [
    "### 3. Normalize Age"
   ]
  },
  {
   "cell_type": "code",
   "execution_count": 39,
   "metadata": {
    "execution": {
     "iopub.execute_input": "2022-02-02T20:46:58.467775Z",
     "iopub.status.busy": "2022-02-02T20:46:58.467473Z",
     "iopub.status.idle": "2022-02-02T20:46:58.477134Z",
     "shell.execute_reply": "2022-02-02T20:46:58.476284Z",
     "shell.execute_reply.started": "2022-02-02T20:46:58.467738Z"
    }
   },
   "outputs": [],
   "source": [
    "def adjust_age(x):\n",
    "    if x < 16: \n",
    "        return 0\n",
    "    elif  30 > x >= 16:\n",
    "        return 1\n",
    "    elif 40 > x >= 30:\n",
    "        return 2\n",
    "    elif x >= 40:\n",
    "        return 3\n",
    "        \n",
    "train[\"Age\"] = train[\"Age\"].apply(adjust_age)\n",
    "test[\"Age\"] = test[\"Age\"].apply(adjust_age)"
   ]
  },
  {
   "cell_type": "markdown",
   "metadata": {},
   "source": [
    "## Prepare Model  "
   ]
  },
  {
   "cell_type": "code",
   "execution_count": 40,
   "metadata": {
    "execution": {
     "iopub.execute_input": "2022-02-02T20:46:58.478583Z",
     "iopub.status.busy": "2022-02-02T20:46:58.478285Z",
     "iopub.status.idle": "2022-02-02T20:46:58.492342Z",
     "shell.execute_reply": "2022-02-02T20:46:58.491556Z",
     "shell.execute_reply.started": "2022-02-02T20:46:58.478543Z"
    }
   },
   "outputs": [],
   "source": [
    "train[\"Sex\"] = train[\"Sex\"].map({\"female\":0, \"male\":1})\n",
    "test[\"Sex\"] = test[\"Sex\"].map({\"female\":0, \"male\":1})"
   ]
  },
  {
   "cell_type": "code",
   "execution_count": 41,
   "metadata": {
    "execution": {
     "iopub.execute_input": "2022-02-02T20:46:58.493613Z",
     "iopub.status.busy": "2022-02-02T20:46:58.493418Z",
     "iopub.status.idle": "2022-02-02T20:46:58.506778Z",
     "shell.execute_reply": "2022-02-02T20:46:58.505895Z",
     "shell.execute_reply.started": "2022-02-02T20:46:58.493589Z"
    }
   },
   "outputs": [],
   "source": [
    "features_col = [\"Sex\",\"Pclass\", \"Age\", \"Fare\"]\n",
    "target_col = [\"Survived\"]\n",
    "\n",
    "X_train = train[features_col]\n",
    "X_test = test[features_col]\n",
    "y_train = train[target_col]"
   ]
  },
  {
   "cell_type": "markdown",
   "metadata": {},
   "source": [
    "# Classification Models\n",
    "\n",
    "Note: Scored on training data for example purposes, can only score on test data in Kaggle"
   ]
  },
  {
   "cell_type": "markdown",
   "metadata": {},
   "source": [
    "## K Nearest Neighbor"
   ]
  },
  {
   "cell_type": "code",
   "execution_count": 42,
   "metadata": {
    "execution": {
     "iopub.execute_input": "2022-02-02T20:46:58.508233Z",
     "iopub.status.busy": "2022-02-02T20:46:58.507919Z",
     "iopub.status.idle": "2022-02-02T20:46:58.560447Z",
     "shell.execute_reply": "2022-02-02T20:46:58.559470Z",
     "shell.execute_reply.started": "2022-02-02T20:46:58.508206Z"
    }
   },
   "outputs": [
    {
     "data": {
      "text/plain": [
       "82.83"
      ]
     },
     "execution_count": 42,
     "metadata": {},
     "output_type": "execute_result"
    }
   ],
   "source": [
    "from sklearn.neighbors import KNeighborsClassifier\n",
    "\n",
    "knn = KNeighborsClassifier(n_neighbors=5)\n",
    "knn.fit(X_train, y_train)\n",
    "\n",
    "score = round(knn.score(X_train, y_train) * 100, 2)\n",
    "score"
   ]
  },
  {
   "cell_type": "markdown",
   "metadata": {},
   "source": [
    "## Logistic Regression "
   ]
  },
  {
   "cell_type": "code",
   "execution_count": 43,
   "metadata": {
    "execution": {
     "iopub.execute_input": "2022-02-02T20:46:58.562161Z",
     "iopub.status.busy": "2022-02-02T20:46:58.561801Z",
     "iopub.status.idle": "2022-02-02T20:46:58.580739Z",
     "shell.execute_reply": "2022-02-02T20:46:58.579872Z",
     "shell.execute_reply.started": "2022-02-02T20:46:58.562127Z"
    }
   },
   "outputs": [
    {
     "data": {
      "text/plain": [
       "79.91"
      ]
     },
     "execution_count": 43,
     "metadata": {},
     "output_type": "execute_result"
    }
   ],
   "source": [
    "from sklearn.linear_model import LogisticRegression\n",
    "lr = LogisticRegression(max_iter = 2000)\n",
    "lr.fit(X_train, y_train)\n",
    "score = round(lr.score(X_train, y_train) * 100, 2)\n",
    "score"
   ]
  }
 ],
 "metadata": {
  "kernelspec": {
   "display_name": "Python 3 (ipykernel)",
   "language": "python",
   "name": "python3"
  },
  "language_info": {
   "codemirror_mode": {
    "name": "ipython",
    "version": 3
   },
   "file_extension": ".py",
   "mimetype": "text/x-python",
   "name": "python",
   "nbconvert_exporter": "python",
   "pygments_lexer": "ipython3",
   "version": "3.9.7"
  }
 },
 "nbformat": 4,
 "nbformat_minor": 4
}

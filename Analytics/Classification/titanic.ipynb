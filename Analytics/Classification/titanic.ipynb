{
 "cells": [
  {
   "cell_type": "markdown",
   "metadata": {},
   "source": [
    "# Titanic Dataset\n",
    "\n",
    "Titanic dataset fetched from kaggle: https://www.kaggle.com/c/titanic\n",
    "\n",
    "The goal is to correctly predict if a passenger survived the titain shipwreck.\n",
    "\n",
    "Below is a walkthrough of imploying EDA and scikit-learn classification algorithms to predict results."
   ]
  },
  {
   "cell_type": "code",
   "execution_count": 128,
   "metadata": {
    "execution": {
     "iopub.execute_input": "2022-02-02T20:46:55.344041Z",
     "iopub.status.busy": "2022-02-02T20:46:55.343728Z",
     "iopub.status.idle": "2022-02-02T20:46:55.348459Z",
     "shell.execute_reply": "2022-02-02T20:46:55.347690Z",
     "shell.execute_reply.started": "2022-02-02T20:46:55.344008Z"
    }
   },
   "outputs": [],
   "source": [
    "import pandas as pd\n",
    "import matplotlib.pyplot as plt\n",
    "import numpy as np\n",
    "import seaborn as sns\n",
    "import warnings\n",
    "warnings.filterwarnings('ignore')"
   ]
  },
  {
   "cell_type": "code",
   "execution_count": 129,
   "metadata": {
    "execution": {
     "iopub.execute_input": "2022-02-02T20:46:55.368660Z",
     "iopub.status.busy": "2022-02-02T20:46:55.368435Z",
     "iopub.status.idle": "2022-02-02T20:46:55.386109Z",
     "shell.execute_reply": "2022-02-02T20:46:55.385454Z",
     "shell.execute_reply.started": "2022-02-02T20:46:55.368632Z"
    }
   },
   "outputs": [],
   "source": [
    "from sklearn.model_selection import train_test_split\n",
    "\n",
    "# Read train.csv only and create own train test files\n",
    "df = pd.read_csv(\"data/train.csv\")\n",
    "\n",
    "# Init train and test files\n",
    "y = df[\"Survived\"]\n",
    "X = df.drop([\"Survived\"], axis=1)\n",
    "X_train, X_test, y_train, y_test = train_test_split(X,y, random_state=0)\n",
    "\n",
    "train = X_train\n",
    "train[\"Survived\"] = y_train\n",
    "test = X_test"
   ]
  },
  {
   "cell_type": "markdown",
   "metadata": {},
   "source": [
    "# Data Overview"
   ]
  },
  {
   "cell_type": "code",
   "execution_count": 130,
   "metadata": {
    "execution": {
     "iopub.execute_input": "2022-02-02T20:46:55.388231Z",
     "iopub.status.busy": "2022-02-02T20:46:55.387515Z",
     "iopub.status.idle": "2022-02-02T20:46:55.404030Z",
     "shell.execute_reply": "2022-02-02T20:46:55.403196Z",
     "shell.execute_reply.started": "2022-02-02T20:46:55.388190Z"
    }
   },
   "outputs": [
    {
     "data": {
      "text/html": [
       "<div>\n",
       "<style scoped>\n",
       "    .dataframe tbody tr th:only-of-type {\n",
       "        vertical-align: middle;\n",
       "    }\n",
       "\n",
       "    .dataframe tbody tr th {\n",
       "        vertical-align: top;\n",
       "    }\n",
       "\n",
       "    .dataframe thead th {\n",
       "        text-align: right;\n",
       "    }\n",
       "</style>\n",
       "<table border=\"1\" class=\"dataframe\">\n",
       "  <thead>\n",
       "    <tr style=\"text-align: right;\">\n",
       "      <th></th>\n",
       "      <th>PassengerId</th>\n",
       "      <th>Pclass</th>\n",
       "      <th>Name</th>\n",
       "      <th>Sex</th>\n",
       "      <th>Age</th>\n",
       "      <th>SibSp</th>\n",
       "      <th>Parch</th>\n",
       "      <th>Ticket</th>\n",
       "      <th>Fare</th>\n",
       "      <th>Cabin</th>\n",
       "      <th>Embarked</th>\n",
       "      <th>Survived</th>\n",
       "    </tr>\n",
       "  </thead>\n",
       "  <tbody>\n",
       "    <tr>\n",
       "      <th>105</th>\n",
       "      <td>106</td>\n",
       "      <td>3</td>\n",
       "      <td>Mionoff, Mr. Stoytcho</td>\n",
       "      <td>male</td>\n",
       "      <td>28.0</td>\n",
       "      <td>0</td>\n",
       "      <td>0</td>\n",
       "      <td>349207</td>\n",
       "      <td>7.8958</td>\n",
       "      <td>NaN</td>\n",
       "      <td>S</td>\n",
       "      <td>0</td>\n",
       "    </tr>\n",
       "    <tr>\n",
       "      <th>68</th>\n",
       "      <td>69</td>\n",
       "      <td>3</td>\n",
       "      <td>Andersson, Miss. Erna Alexandra</td>\n",
       "      <td>female</td>\n",
       "      <td>17.0</td>\n",
       "      <td>4</td>\n",
       "      <td>2</td>\n",
       "      <td>3101281</td>\n",
       "      <td>7.9250</td>\n",
       "      <td>NaN</td>\n",
       "      <td>S</td>\n",
       "      <td>1</td>\n",
       "    </tr>\n",
       "    <tr>\n",
       "      <th>253</th>\n",
       "      <td>254</td>\n",
       "      <td>3</td>\n",
       "      <td>Lobb, Mr. William Arthur</td>\n",
       "      <td>male</td>\n",
       "      <td>30.0</td>\n",
       "      <td>1</td>\n",
       "      <td>0</td>\n",
       "      <td>A/5. 3336</td>\n",
       "      <td>16.1000</td>\n",
       "      <td>NaN</td>\n",
       "      <td>S</td>\n",
       "      <td>0</td>\n",
       "    </tr>\n",
       "    <tr>\n",
       "      <th>320</th>\n",
       "      <td>321</td>\n",
       "      <td>3</td>\n",
       "      <td>Dennis, Mr. Samuel</td>\n",
       "      <td>male</td>\n",
       "      <td>22.0</td>\n",
       "      <td>0</td>\n",
       "      <td>0</td>\n",
       "      <td>A/5 21172</td>\n",
       "      <td>7.2500</td>\n",
       "      <td>NaN</td>\n",
       "      <td>S</td>\n",
       "      <td>0</td>\n",
       "    </tr>\n",
       "    <tr>\n",
       "      <th>706</th>\n",
       "      <td>707</td>\n",
       "      <td>2</td>\n",
       "      <td>Kelly, Mrs. Florence \"Fannie\"</td>\n",
       "      <td>female</td>\n",
       "      <td>45.0</td>\n",
       "      <td>0</td>\n",
       "      <td>0</td>\n",
       "      <td>223596</td>\n",
       "      <td>13.5000</td>\n",
       "      <td>NaN</td>\n",
       "      <td>S</td>\n",
       "      <td>1</td>\n",
       "    </tr>\n",
       "  </tbody>\n",
       "</table>\n",
       "</div>"
      ],
      "text/plain": [
       "     PassengerId  Pclass                             Name     Sex   Age  \\\n",
       "105          106       3            Mionoff, Mr. Stoytcho    male  28.0   \n",
       "68            69       3  Andersson, Miss. Erna Alexandra  female  17.0   \n",
       "253          254       3         Lobb, Mr. William Arthur    male  30.0   \n",
       "320          321       3               Dennis, Mr. Samuel    male  22.0   \n",
       "706          707       2    Kelly, Mrs. Florence \"Fannie\"  female  45.0   \n",
       "\n",
       "     SibSp  Parch     Ticket     Fare Cabin Embarked  Survived  \n",
       "105      0      0     349207   7.8958   NaN        S         0  \n",
       "68       4      2    3101281   7.9250   NaN        S         1  \n",
       "253      1      0  A/5. 3336  16.1000   NaN        S         0  \n",
       "320      0      0  A/5 21172   7.2500   NaN        S         0  \n",
       "706      0      0     223596  13.5000   NaN        S         1  "
      ]
     },
     "execution_count": 130,
     "metadata": {},
     "output_type": "execute_result"
    }
   ],
   "source": [
    "train.head()"
   ]
  },
  {
   "cell_type": "code",
   "execution_count": 131,
   "metadata": {
    "execution": {
     "iopub.execute_input": "2022-02-02T20:46:55.406506Z",
     "iopub.status.busy": "2022-02-02T20:46:55.406179Z",
     "iopub.status.idle": "2022-02-02T20:46:55.424792Z",
     "shell.execute_reply": "2022-02-02T20:46:55.424131Z",
     "shell.execute_reply.started": "2022-02-02T20:46:55.406425Z"
    }
   },
   "outputs": [
    {
     "name": "stdout",
     "output_type": "stream",
     "text": [
      "<class 'pandas.core.frame.DataFrame'>\n",
      "Int64Index: 668 entries, 105 to 684\n",
      "Data columns (total 12 columns):\n",
      " #   Column       Non-Null Count  Dtype  \n",
      "---  ------       --------------  -----  \n",
      " 0   PassengerId  668 non-null    int64  \n",
      " 1   Pclass       668 non-null    int64  \n",
      " 2   Name         668 non-null    object \n",
      " 3   Sex          668 non-null    object \n",
      " 4   Age          535 non-null    float64\n",
      " 5   SibSp        668 non-null    int64  \n",
      " 6   Parch        668 non-null    int64  \n",
      " 7   Ticket       668 non-null    object \n",
      " 8   Fare         668 non-null    float64\n",
      " 9   Cabin        157 non-null    object \n",
      " 10  Embarked     666 non-null    object \n",
      " 11  Survived     668 non-null    int64  \n",
      "dtypes: float64(2), int64(5), object(5)\n",
      "memory usage: 67.8+ KB\n"
     ]
    }
   ],
   "source": [
    "train.info() "
   ]
  },
  {
   "cell_type": "code",
   "execution_count": 132,
   "metadata": {
    "execution": {
     "iopub.execute_input": "2022-02-02T20:46:55.426449Z",
     "iopub.status.busy": "2022-02-02T20:46:55.425805Z",
     "iopub.status.idle": "2022-02-02T20:46:55.456167Z",
     "shell.execute_reply": "2022-02-02T20:46:55.455211Z",
     "shell.execute_reply.started": "2022-02-02T20:46:55.426413Z"
    }
   },
   "outputs": [
    {
     "data": {
      "text/html": [
       "<div>\n",
       "<style scoped>\n",
       "    .dataframe tbody tr th:only-of-type {\n",
       "        vertical-align: middle;\n",
       "    }\n",
       "\n",
       "    .dataframe tbody tr th {\n",
       "        vertical-align: top;\n",
       "    }\n",
       "\n",
       "    .dataframe thead th {\n",
       "        text-align: right;\n",
       "    }\n",
       "</style>\n",
       "<table border=\"1\" class=\"dataframe\">\n",
       "  <thead>\n",
       "    <tr style=\"text-align: right;\">\n",
       "      <th></th>\n",
       "      <th>PassengerId</th>\n",
       "      <th>Pclass</th>\n",
       "      <th>Age</th>\n",
       "      <th>SibSp</th>\n",
       "      <th>Parch</th>\n",
       "      <th>Fare</th>\n",
       "      <th>Survived</th>\n",
       "    </tr>\n",
       "  </thead>\n",
       "  <tbody>\n",
       "    <tr>\n",
       "      <th>count</th>\n",
       "      <td>668.000000</td>\n",
       "      <td>668.000000</td>\n",
       "      <td>535.000000</td>\n",
       "      <td>668.000000</td>\n",
       "      <td>668.000000</td>\n",
       "      <td>668.000000</td>\n",
       "      <td>668.000000</td>\n",
       "    </tr>\n",
       "    <tr>\n",
       "      <th>mean</th>\n",
       "      <td>445.911677</td>\n",
       "      <td>2.305389</td>\n",
       "      <td>29.900000</td>\n",
       "      <td>0.534431</td>\n",
       "      <td>0.392216</td>\n",
       "      <td>32.373621</td>\n",
       "      <td>0.386228</td>\n",
       "    </tr>\n",
       "    <tr>\n",
       "      <th>std</th>\n",
       "      <td>259.966783</td>\n",
       "      <td>0.837377</td>\n",
       "      <td>14.487993</td>\n",
       "      <td>1.161739</td>\n",
       "      <td>0.822509</td>\n",
       "      <td>50.632021</td>\n",
       "      <td>0.487249</td>\n",
       "    </tr>\n",
       "    <tr>\n",
       "      <th>min</th>\n",
       "      <td>1.000000</td>\n",
       "      <td>1.000000</td>\n",
       "      <td>0.670000</td>\n",
       "      <td>0.000000</td>\n",
       "      <td>0.000000</td>\n",
       "      <td>0.000000</td>\n",
       "      <td>0.000000</td>\n",
       "    </tr>\n",
       "    <tr>\n",
       "      <th>25%</th>\n",
       "      <td>216.250000</td>\n",
       "      <td>2.000000</td>\n",
       "      <td>21.000000</td>\n",
       "      <td>0.000000</td>\n",
       "      <td>0.000000</td>\n",
       "      <td>7.925000</td>\n",
       "      <td>0.000000</td>\n",
       "    </tr>\n",
       "    <tr>\n",
       "      <th>50%</th>\n",
       "      <td>445.500000</td>\n",
       "      <td>3.000000</td>\n",
       "      <td>29.000000</td>\n",
       "      <td>0.000000</td>\n",
       "      <td>0.000000</td>\n",
       "      <td>14.500000</td>\n",
       "      <td>0.000000</td>\n",
       "    </tr>\n",
       "    <tr>\n",
       "      <th>75%</th>\n",
       "      <td>674.500000</td>\n",
       "      <td>3.000000</td>\n",
       "      <td>38.000000</td>\n",
       "      <td>1.000000</td>\n",
       "      <td>0.000000</td>\n",
       "      <td>31.275000</td>\n",
       "      <td>1.000000</td>\n",
       "    </tr>\n",
       "    <tr>\n",
       "      <th>max</th>\n",
       "      <td>890.000000</td>\n",
       "      <td>3.000000</td>\n",
       "      <td>80.000000</td>\n",
       "      <td>8.000000</td>\n",
       "      <td>6.000000</td>\n",
       "      <td>512.329200</td>\n",
       "      <td>1.000000</td>\n",
       "    </tr>\n",
       "  </tbody>\n",
       "</table>\n",
       "</div>"
      ],
      "text/plain": [
       "       PassengerId      Pclass         Age       SibSp       Parch  \\\n",
       "count   668.000000  668.000000  535.000000  668.000000  668.000000   \n",
       "mean    445.911677    2.305389   29.900000    0.534431    0.392216   \n",
       "std     259.966783    0.837377   14.487993    1.161739    0.822509   \n",
       "min       1.000000    1.000000    0.670000    0.000000    0.000000   \n",
       "25%     216.250000    2.000000   21.000000    0.000000    0.000000   \n",
       "50%     445.500000    3.000000   29.000000    0.000000    0.000000   \n",
       "75%     674.500000    3.000000   38.000000    1.000000    0.000000   \n",
       "max     890.000000    3.000000   80.000000    8.000000    6.000000   \n",
       "\n",
       "             Fare    Survived  \n",
       "count  668.000000  668.000000  \n",
       "mean    32.373621    0.386228  \n",
       "std     50.632021    0.487249  \n",
       "min      0.000000    0.000000  \n",
       "25%      7.925000    0.000000  \n",
       "50%     14.500000    0.000000  \n",
       "75%     31.275000    1.000000  \n",
       "max    512.329200    1.000000  "
      ]
     },
     "execution_count": 132,
     "metadata": {},
     "output_type": "execute_result"
    }
   ],
   "source": [
    "train.describe()"
   ]
  },
  {
   "cell_type": "code",
   "execution_count": 133,
   "metadata": {
    "execution": {
     "iopub.execute_input": "2022-02-02T20:46:55.457883Z",
     "iopub.status.busy": "2022-02-02T20:46:55.457516Z",
     "iopub.status.idle": "2022-02-02T20:46:55.465754Z",
     "shell.execute_reply": "2022-02-02T20:46:55.464959Z",
     "shell.execute_reply.started": "2022-02-02T20:46:55.457837Z"
    }
   },
   "outputs": [
    {
     "data": {
      "text/plain": [
       "PassengerId      0\n",
       "Pclass           0\n",
       "Name             0\n",
       "Sex              0\n",
       "Age            133\n",
       "SibSp            0\n",
       "Parch            0\n",
       "Ticket           0\n",
       "Fare             0\n",
       "Cabin          511\n",
       "Embarked         2\n",
       "Survived         0\n",
       "dtype: int64"
      ]
     },
     "execution_count": 133,
     "metadata": {},
     "output_type": "execute_result"
    }
   ],
   "source": [
    "train.isna().sum()"
   ]
  },
  {
   "cell_type": "markdown",
   "metadata": {},
   "source": [
    "### Summary: \n",
    "\n",
    "1. Missing values in cols; Age, Cabin, Embarked\n",
    "2. Numerical vars: Age,SibSp, Parch, Fare\n",
    "3. Categorical vars: Sex, Embarked, Pclass"
   ]
  },
  {
   "cell_type": "markdown",
   "metadata": {},
   "source": [
    "# Exploratory Data Analysis\n",
    "\n",
    "Split columns into numerical and categorical types and visualize data to search for meaningful relationships"
   ]
  },
  {
   "cell_type": "markdown",
   "metadata": {},
   "source": [
    "## Numerical Anaylsis"
   ]
  },
  {
   "cell_type": "code",
   "execution_count": 134,
   "metadata": {
    "execution": {
     "iopub.execute_input": "2022-02-02T20:46:55.467328Z",
     "iopub.status.busy": "2022-02-02T20:46:55.467101Z",
     "iopub.status.idle": "2022-02-02T20:46:55.479073Z",
     "shell.execute_reply": "2022-02-02T20:46:55.478150Z",
     "shell.execute_reply.started": "2022-02-02T20:46:55.467299Z"
    }
   },
   "outputs": [],
   "source": [
    "col_num = ['Age','SibSp', 'Parch', 'Fare']"
   ]
  },
  {
   "cell_type": "code",
   "execution_count": 135,
   "metadata": {
    "execution": {
     "iopub.execute_input": "2022-02-02T20:46:55.481951Z",
     "iopub.status.busy": "2022-02-02T20:46:55.481700Z",
     "iopub.status.idle": "2022-02-02T20:46:56.679749Z",
     "shell.execute_reply": "2022-02-02T20:46:56.678908Z",
     "shell.execute_reply.started": "2022-02-02T20:46:55.481921Z"
    }
   },
   "outputs": [
    {
     "data": {
      "image/png": "[encoded data removed]",
      "text/plain": [
       "<Figure size 2160x432 with 4 Axes>"
      ]
     },
     "metadata": {},
     "output_type": "display_data"
    }
   ],
   "source": [
    "sns.set_palette(\"colorblind\")\n",
    "fig, ax = plt.subplots(1,4, figsize=(30,6))\n",
    "for idx,col in enumerate(col_num):\n",
    "    sns.distplot(train[col], ax=ax[idx])"
   ]
  },
  {
   "cell_type": "code",
   "execution_count": 136,
   "metadata": {
    "execution": {
     "iopub.execute_input": "2022-02-02T20:46:56.681395Z",
     "iopub.status.busy": "2022-02-02T20:46:56.681184Z",
     "iopub.status.idle": "2022-02-02T20:46:57.348370Z",
     "shell.execute_reply": "2022-02-02T20:46:57.347699Z",
     "shell.execute_reply.started": "2022-02-02T20:46:56.681360Z"
    }
   },
   "outputs": [
    {
     "data": {
      "text/plain": [
       "<seaborn.axisgrid.FacetGrid at 0x7fdbe038a190>"
      ]
     },
     "execution_count": 136,
     "metadata": {},
     "output_type": "execute_result"
    },
    {
     "data": {
      "image/png": "[encoded data removed]",
      "text/plain": [
       "<Figure size 432x216 with 2 Axes>"
      ]
     },
     "metadata": {},
     "output_type": "display_data"
    }
   ],
   "source": [
    "g = sns.FacetGrid(train, col='Survived')\n",
    "g.map(plt.hist, 'Age', alpha=0.5)"
   ]
  },
  {
   "cell_type": "code",
   "execution_count": 137,
   "metadata": {
    "execution": {
     "iopub.execute_input": "2022-02-02T20:46:57.349928Z",
     "iopub.status.busy": "2022-02-02T20:46:57.349314Z",
     "iopub.status.idle": "2022-02-02T20:46:57.370120Z",
     "shell.execute_reply": "2022-02-02T20:46:57.369238Z",
     "shell.execute_reply.started": "2022-02-02T20:46:57.349894Z"
    }
   },
   "outputs": [
    {
     "data": {
      "text/html": [
       "<div>\n",
       "<style scoped>\n",
       "    .dataframe tbody tr th:only-of-type {\n",
       "        vertical-align: middle;\n",
       "    }\n",
       "\n",
       "    .dataframe tbody tr th {\n",
       "        vertical-align: top;\n",
       "    }\n",
       "\n",
       "    .dataframe thead th {\n",
       "        text-align: right;\n",
       "    }\n",
       "</style>\n",
       "<table border=\"1\" class=\"dataframe\">\n",
       "  <thead>\n",
       "    <tr style=\"text-align: right;\">\n",
       "      <th></th>\n",
       "      <th>Age</th>\n",
       "      <th>Fare</th>\n",
       "      <th>Parch</th>\n",
       "      <th>SibSp</th>\n",
       "    </tr>\n",
       "    <tr>\n",
       "      <th>Survived</th>\n",
       "      <th></th>\n",
       "      <th></th>\n",
       "      <th></th>\n",
       "      <th></th>\n",
       "    </tr>\n",
       "  </thead>\n",
       "  <tbody>\n",
       "    <tr>\n",
       "      <th>0</th>\n",
       "      <td>30.901899</td>\n",
       "      <td>23.208027</td>\n",
       "      <td>0.339024</td>\n",
       "      <td>0.580488</td>\n",
       "    </tr>\n",
       "    <tr>\n",
       "      <th>1</th>\n",
       "      <td>28.454338</td>\n",
       "      <td>46.939100</td>\n",
       "      <td>0.476744</td>\n",
       "      <td>0.461240</td>\n",
       "    </tr>\n",
       "  </tbody>\n",
       "</table>\n",
       "</div>"
      ],
      "text/plain": [
       "                Age       Fare     Parch     SibSp\n",
       "Survived                                          \n",
       "0         30.901899  23.208027  0.339024  0.580488\n",
       "1         28.454338  46.939100  0.476744  0.461240"
      ]
     },
     "execution_count": 137,
     "metadata": {},
     "output_type": "execute_result"
    }
   ],
   "source": [
    "pd.pivot_table(train, index='Survived', values=col_num)"
   ]
  },
  {
   "cell_type": "code",
   "execution_count": 138,
   "metadata": {
    "execution": {
     "iopub.execute_input": "2022-02-02T20:46:57.372377Z",
     "iopub.status.busy": "2022-02-02T20:46:57.371927Z",
     "iopub.status.idle": "2022-02-02T20:46:57.649353Z",
     "shell.execute_reply": "2022-02-02T20:46:57.648526Z",
     "shell.execute_reply.started": "2022-02-02T20:46:57.372332Z"
    }
   },
   "outputs": [
    {
     "name": "stdout",
     "output_type": "stream",
     "text": [
      "            Age     SibSp     Parch      Fare\n",
      "Age    1.000000 -0.305921 -0.186961  0.103862\n",
      "SibSp -0.305921  1.000000  0.425168  0.136919\n",
      "Parch -0.186961  0.425168  1.000000  0.206725\n",
      "Fare   0.103862  0.136919  0.206725  1.000000\n"
     ]
    },
    {
     "data": {
      "text/plain": [
       "<AxesSubplot:>"
      ]
     },
     "execution_count": 138,
     "metadata": {},
     "output_type": "execute_result"
    },
    {
     "data": {
      "image/png": "[encoded data removed]",
      "text/plain": [
       "<Figure size 432x288 with 2 Axes>"
      ]
     },
     "metadata": {},
     "output_type": "display_data"
    }
   ],
   "source": [
    "print(train[col_num].corr())\n",
    "sns.heatmap(train[col_num].corr())"
   ]
  },
  {
   "cell_type": "markdown",
   "metadata": {},
   "source": [
    "### Summary: \n",
    "\n",
    "1. Age is normally distributed\n",
    "2. Right skew found in taking \"Age\" dependent on \"Survived\" : more younger people died\n",
    "3. Fare is right skewed and needs to be normalized\n",
    "4. Mean average of fare paid is higher for passengers who survived then those who died"
   ]
  },
  {
   "cell_type": "markdown",
   "metadata": {},
   "source": [
    "## Categorical Analysis"
   ]
  },
  {
   "cell_type": "code",
   "execution_count": 139,
   "metadata": {
    "execution": {
     "iopub.execute_input": "2022-02-02T20:46:57.651319Z",
     "iopub.status.busy": "2022-02-02T20:46:57.650585Z",
     "iopub.status.idle": "2022-02-02T20:46:57.655996Z",
     "shell.execute_reply": "2022-02-02T20:46:57.655031Z",
     "shell.execute_reply.started": "2022-02-02T20:46:57.651256Z"
    }
   },
   "outputs": [],
   "source": [
    "col_cat = ['Sex', 'Embarked','Pclass']"
   ]
  },
  {
   "cell_type": "code",
   "execution_count": 140,
   "metadata": {
    "execution": {
     "iopub.execute_input": "2022-02-02T20:46:57.657956Z",
     "iopub.status.busy": "2022-02-02T20:46:57.657433Z",
     "iopub.status.idle": "2022-02-02T20:46:58.151601Z",
     "shell.execute_reply": "2022-02-02T20:46:58.150565Z",
     "shell.execute_reply.started": "2022-02-02T20:46:57.657912Z"
    }
   },
   "outputs": [
    {
     "data": {
      "image/png": "[encoded data removed]",
      "text/plain": [
       "<Figure size 1440x432 with 3 Axes>"
      ]
     },
     "metadata": {},
     "output_type": "display_data"
    }
   ],
   "source": [
    "sns.set_style(\"whitegrid\")\n",
    "fig, ax = plt.subplots(1,len(col_cat), figsize=(20,6))\n",
    "for idx, col in enumerate(col_cat):\n",
    "    sns.countplot(x=col, data=train, ax=ax[idx], hue=\"Survived\")\n",
    "\n",
    "plt.show()"
   ]
  },
  {
   "cell_type": "markdown",
   "metadata": {},
   "source": [
    "### Summary: \n",
    "\n",
    "1. More males died then females\n",
    "2. Pclass looks ordinal: 1 < 2 < 3 $\\rightarrow$  coach < business < first"
   ]
  },
  {
   "cell_type": "markdown",
   "metadata": {},
   "source": [
    "## Feature Engineering\n",
    "\n",
    "From above EDA, use features for modeling [Sex, Pclass, Age, Fare]. However need to perform the following prior modeling\n",
    "\n",
    "1. Normalize Fare to avoid overfitting\n",
    "2. Impute Age NAs with the median age of associated class and gender\n",
    "3. Normalize Age to avoid overfitting\n",
    "\n",
    "\n",
    "### 1. Normalize Fare"
   ]
  },
  {
   "cell_type": "code",
   "execution_count": 141,
   "metadata": {
    "execution": {
     "iopub.execute_input": "2022-02-02T20:46:58.153712Z",
     "iopub.status.busy": "2022-02-02T20:46:58.153405Z",
     "iopub.status.idle": "2022-02-02T20:46:58.168991Z",
     "shell.execute_reply": "2022-02-02T20:46:58.168020Z",
     "shell.execute_reply.started": "2022-02-02T20:46:58.153670Z"
    }
   },
   "outputs": [
    {
     "name": "stdout",
     "output_type": "stream",
     "text": [
      "Coach: 271, Business: 214, First: 183\n"
     ]
    }
   ],
   "source": [
    "#print(train[\"Fare\"].describe())\n",
    "coach = train[train[\"Fare\"] < 12]\n",
    "business = train[(train[\"Fare\"] >= 12) & (train[\"Fare\"] < 30)]\n",
    "first = train[(train[\"Fare\"] >= 30)]\n",
    "\n",
    "def adjust_price(x):\n",
    "    if x < 12: \n",
    "        return 0\n",
    "    elif  30 > x >= 12:\n",
    "        return 1\n",
    "    elif  x >= 30:\n",
    "        return 2\n",
    "\n",
    "train[\"Fare\"] = train[\"Fare\"].apply(adjust_price)\n",
    "test[\"Fare\"] = test[\"Fare\"].apply(adjust_price)\n",
    "\n",
    "print(\"Coach: {0}, Business: {1}, First: {2}\".format(len(coach), len(business), len(first) ))"
   ]
  },
  {
   "cell_type": "code",
   "execution_count": 142,
   "metadata": {
    "execution": {
     "iopub.execute_input": "2022-02-02T20:46:58.170957Z",
     "iopub.status.busy": "2022-02-02T20:46:58.170699Z",
     "iopub.status.idle": "2022-02-02T20:46:58.423193Z",
     "shell.execute_reply": "2022-02-02T20:46:58.422319Z",
     "shell.execute_reply.started": "2022-02-02T20:46:58.170927Z"
    }
   },
   "outputs": [
    {
     "data": {
      "text/plain": [
       "<AxesSubplot:xlabel='Fare', ylabel='count'>"
      ]
     },
     "execution_count": 142,
     "metadata": {},
     "output_type": "execute_result"
    },
    {
     "data": {
      "image/png": "[encoded data removed]",
      "text/plain": [
       "<Figure size 432x288 with 1 Axes>"
      ]
     },
     "metadata": {},
     "output_type": "display_data"
    }
   ],
   "source": [
    "sns.countplot(x=\"Fare\", data=train, hue=\"Survived\")"
   ]
  },
  {
   "cell_type": "markdown",
   "metadata": {},
   "source": [
    "### 2. Impute Age NAs"
   ]
  },
  {
   "cell_type": "code",
   "execution_count": 143,
   "metadata": {
    "execution": {
     "iopub.execute_input": "2022-02-02T20:46:58.425000Z",
     "iopub.status.busy": "2022-02-02T20:46:58.424468Z",
     "iopub.status.idle": "2022-02-02T20:46:58.466054Z",
     "shell.execute_reply": "2022-02-02T20:46:58.465289Z",
     "shell.execute_reply.started": "2022-02-02T20:46:58.424964Z"
    }
   },
   "outputs": [],
   "source": [
    "for x in [1,2,3]:\n",
    "    for y in [\"male\", \"female\"]:\n",
    "        # Train \n",
    "        mean_age = train[~pd.isnull(train[\"Age\"]) & (train[\"Sex\"] == y) & (train[\"Pclass\"] == x)].Age.median()\n",
    "        train.loc[pd.isnull(train[\"Age\"]) & (train[\"Sex\"] == y) & (train[\"Pclass\"] == x), \"Age\"] = mean_age \n",
    "        \n",
    "        # Test\n",
    "        mean_age = test[ ~pd.isnull(test[\"Age\"]) & (test[\"Sex\"] == y) & (test[\"Pclass\"] == x)].Age.median()\n",
    "        test.loc[pd.isnull(test[\"Age\"]) & (test[\"Sex\"] == y) & (test[\"Pclass\"] == x), \"Age\"] = mean_age"
   ]
  },
  {
   "cell_type": "markdown",
   "metadata": {},
   "source": [
    "### 3. Normalize Age"
   ]
  },
  {
   "cell_type": "code",
   "execution_count": 144,
   "metadata": {
    "execution": {
     "iopub.execute_input": "2022-02-02T20:46:58.467775Z",
     "iopub.status.busy": "2022-02-02T20:46:58.467473Z",
     "iopub.status.idle": "2022-02-02T20:46:58.477134Z",
     "shell.execute_reply": "2022-02-02T20:46:58.476284Z",
     "shell.execute_reply.started": "2022-02-02T20:46:58.467738Z"
    }
   },
   "outputs": [],
   "source": [
    "def adjust_age(x):\n",
    "    if x < 16: \n",
    "        return 0\n",
    "    elif  30 > x >= 16:\n",
    "        return 1\n",
    "    elif 40 > x >= 30:\n",
    "        return 2\n",
    "    elif x >= 40:\n",
    "        return 3\n",
    "        \n",
    "train[\"Age\"] = train[\"Age\"].apply(adjust_age)\n",
    "test[\"Age\"] = test[\"Age\"].apply(adjust_age)"
   ]
  },
  {
   "cell_type": "markdown",
   "metadata": {},
   "source": [
    "## Prepare Model  "
   ]
  },
  {
   "cell_type": "code",
   "execution_count": 145,
   "metadata": {
    "execution": {
     "iopub.execute_input": "2022-02-02T20:46:58.478583Z",
     "iopub.status.busy": "2022-02-02T20:46:58.478285Z",
     "iopub.status.idle": "2022-02-02T20:46:58.492342Z",
     "shell.execute_reply": "2022-02-02T20:46:58.491556Z",
     "shell.execute_reply.started": "2022-02-02T20:46:58.478543Z"
    }
   },
   "outputs": [],
   "source": [
    "train[\"Sex\"] = train[\"Sex\"].map({\"female\":0, \"male\":1})\n",
    "test[\"Sex\"] = test[\"Sex\"].map({\"female\":0, \"male\":1})"
   ]
  },
  {
   "cell_type": "code",
   "execution_count": 146,
   "metadata": {
    "execution": {
     "iopub.execute_input": "2022-02-02T20:46:58.493613Z",
     "iopub.status.busy": "2022-02-02T20:46:58.493418Z",
     "iopub.status.idle": "2022-02-02T20:46:58.506778Z",
     "shell.execute_reply": "2022-02-02T20:46:58.505895Z",
     "shell.execute_reply.started": "2022-02-02T20:46:58.493589Z"
    }
   },
   "outputs": [],
   "source": [
    "features_col = [\"Sex\",\"Pclass\", \"Age\", \"Fare\"]\n",
    "target_col = [\"Survived\"]\n",
    "\n",
    "X_train = train[features_col]\n",
    "x_test = test[features_col]"
   ]
  },
  {
   "cell_type": "markdown",
   "metadata": {},
   "source": [
    "# Classification Models\n"
   ]
  },
  {
   "cell_type": "markdown",
   "metadata": {},
   "source": [
    "## K Nearest Neighbor"
   ]
  },
  {
   "cell_type": "code",
   "execution_count": 147,
   "metadata": {
    "execution": {
     "iopub.execute_input": "2022-02-02T20:46:58.508233Z",
     "iopub.status.busy": "2022-02-02T20:46:58.507919Z",
     "iopub.status.idle": "2022-02-02T20:46:58.560447Z",
     "shell.execute_reply": "2022-02-02T20:46:58.559470Z",
     "shell.execute_reply.started": "2022-02-02T20:46:58.508206Z"
    }
   },
   "outputs": [
    {
     "data": {
      "text/plain": [
       "82.06"
      ]
     },
     "execution_count": 147,
     "metadata": {},
     "output_type": "execute_result"
    }
   ],
   "source": [
    "from sklearn.neighbors import KNeighborsClassifier\n",
    "from sklearn.metrics import accuracy_score\n",
    "\n",
    "# Define model\n",
    "knn = KNeighborsClassifier(n_neighbors=5)\n",
    "\n",
    "# Fit using x,y train\n",
    "knn.fit(X_train, y_train)\n",
    "\n",
    "# Predict y vals using x test\n",
    "y_pred = knn.predict(x_test) \n",
    "\n",
    "# Calculate classification score\n",
    "score = round( accuracy_score(y_test, y_pred) * 100, 2)\n",
    "score"
   ]
  },
  {
   "cell_type": "markdown",
   "metadata": {},
   "source": [
    "## Logistic Regression "
   ]
  },
  {
   "cell_type": "code",
   "execution_count": 148,
   "metadata": {
    "execution": {
     "iopub.execute_input": "2022-02-02T20:46:58.562161Z",
     "iopub.status.busy": "2022-02-02T20:46:58.561801Z",
     "iopub.status.idle": "2022-02-02T20:46:58.580739Z",
     "shell.execute_reply": "2022-02-02T20:46:58.579872Z",
     "shell.execute_reply.started": "2022-02-02T20:46:58.562127Z"
    }
   },
   "outputs": [
    {
     "data": {
      "text/plain": [
       "78.03"
      ]
     },
     "execution_count": 148,
     "metadata": {},
     "output_type": "execute_result"
    }
   ],
   "source": [
    "from sklearn.linear_model import LogisticRegression\n",
    "\n",
    "# Define model\n",
    "lr = LogisticRegression(max_iter = 2000)\n",
    "\n",
    "# Fit using x,y train\n",
    "lr.fit(X_train, y_train)\n",
    "\n",
    "# Predict y vals using x test\n",
    "y_pred = lr.predict(x_test) \n",
    "\n",
    "# Calculate classification score\n",
    "score = round( accuracy_score(y_test, y_pred) * 100, 2)\n",
    "score"
   ]
  }
 ],
 "metadata": {
  "kernelspec": {
   "display_name": "Python 3 (ipykernel)",
   "language": "python",
   "name": "python3"
  },
  "language_info": {
   "codemirror_mode": {
    "name": "ipython",
    "version": 3
   },
   "file_extension": ".py",
   "mimetype": "text/x-python",
   "name": "python",
   "nbconvert_exporter": "python",
   "pygments_lexer": "ipython3",
   "version": "3.9.7"
  }
 },
 "nbformat": 4,
 "nbformat_minor": 4
}

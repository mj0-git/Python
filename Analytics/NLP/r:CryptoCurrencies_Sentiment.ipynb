{
 "cells": [
  {
   "cell_type": "code",
   "execution_count": 2,
   "id": "ad265b8f",
   "metadata": {},
   "outputs": [],
   "source": [
    "from IPython import display\n",
    "import math\n",
    "from pprint import pprint\n",
    "import pandas as pd\n",
    "import numpy as np\n",
    "import nltk\n",
    "import matplotlib.pyplot as plt\n",
    "import seaborn as sns\n",
    "import praw\n",
    "sns.set(style='darkgrid', context='talk', palette='Dark2')"
   ]
  },
  {
   "cell_type": "markdown",
   "id": "0b97d473",
   "metadata": {},
   "source": [
    "# Sentiment Analysis on r/CryptoCurrency\n",
    "\n",
    "As crypto markets tumble, lets use NTLK to detect sentiment on popular subreddit r/CryptoCurrency\n",
    "\n",
    "Link: https://www.reddit.com/r/CryptoCurrency/\n",
    "\n",
    "Will be scarpping the \"Hottest \" posts using praw - *note* we are limited to 1000 posts only\n",
    "\n",
    "Tutorial Reference: https://www.learndatasci.com/tutorials/sentiment-analysis-reddit-headlines-pythons-nltk/"
   ]
  },
  {
   "cell_type": "code",
   "execution_count": 3,
   "id": "5dcb2dfd",
   "metadata": {},
   "outputs": [],
   "source": [
    "reddit = praw.Reddit(client_id='##',\n",
    "                     client_secret='##',\n",
    "                     user_agent='##')"
   ]
  },
  {
   "cell_type": "markdown",
   "id": "fb048672",
   "metadata": {},
   "source": [
    "Query *r/CryptoCurrency* \"Hot\" posts and store headlines in Set object. \n",
    "\n",
    "Output the number of headlines queried (<1000)"
   ]
  },
  {
   "cell_type": "code",
   "execution_count": 4,
   "id": "157c9047",
   "metadata": {},
   "outputs": [
    {
     "name": "stdout",
     "output_type": "stream",
     "text": [
      "671\n"
     ]
    }
   ],
   "source": [
    "headlines = set()\n",
    "\n",
    "for submission in reddit.subreddit('CryptoCurrency').hot(limit=None):\n",
    "    headlines.add(submission.title)\n",
    "    display.clear_output()\n",
    "    print(len(headlines))"
   ]
  },
  {
   "cell_type": "markdown",
   "id": "99b75400",
   "metadata": {},
   "source": [
    "Iterate through headlines and apply *polarity_scores* to gauge sentiment\n",
    "\n",
    "- **neg** : Negative\n",
    "- **neu** : Neutral\n",
    "- **pos** : Positive\n",
    "- **compound** : Aggregate score\n"
   ]
  },
  {
   "cell_type": "code",
   "execution_count": 5,
   "id": "9348114e",
   "metadata": {
    "scrolled": true
   },
   "outputs": [
    {
     "name": "stdout",
     "output_type": "stream",
     "text": [
      "[{'compound': 0.1779,\n",
      "  'headline': 'Amazon Marketplace Owners Can Now Be Bought Out in Crypto',\n",
      "  'neg': 0.0,\n",
      "  'neu': 0.841,\n",
      "  'pos': 0.159},\n",
      " {'compound': 0.0,\n",
      "  'headline': 'Are any cryptos still “untraceable”',\n",
      "  'neg': 0.0,\n",
      "  'neu': 1.0,\n",
      "  'pos': 0.0},\n",
      " {'compound': 0.4019,\n",
      "  'headline': 'Crypto Tax Software Firm CoinTracker Raises $100M to Help Traders Prep for IRS',\n",
      "  'neg': 0.0,\n",
      "  'neu': 0.816,\n",
      "  'pos': 0.184}]\n"
     ]
    }
   ],
   "source": [
    "from nltk.sentiment.vader import SentimentIntensityAnalyzer as SIA\n",
    "\n",
    "sia = SIA()\n",
    "results = []\n",
    "\n",
    "for line in headlines:\n",
    "    pol_score = sia.polarity_scores(line)\n",
    "    pol_score['headline'] = line\n",
    "    results.append(pol_score)\n",
    "\n",
    "pprint(results[:3], width=100)"
   ]
  },
  {
   "cell_type": "markdown",
   "id": "55c1c1a9",
   "metadata": {},
   "source": [
    "Convert to DataFrame for EDA"
   ]
  },
  {
   "cell_type": "code",
   "execution_count": 6,
   "id": "453dcda5",
   "metadata": {},
   "outputs": [
    {
     "data": {
      "text/html": [
       "<div>\n",
       "<style scoped>\n",
       "    .dataframe tbody tr th:only-of-type {\n",
       "        vertical-align: middle;\n",
       "    }\n",
       "\n",
       "    .dataframe tbody tr th {\n",
       "        vertical-align: top;\n",
       "    }\n",
       "\n",
       "    .dataframe thead th {\n",
       "        text-align: right;\n",
       "    }\n",
       "</style>\n",
       "<table border=\"1\" class=\"dataframe\">\n",
       "  <thead>\n",
       "    <tr style=\"text-align: right;\">\n",
       "      <th></th>\n",
       "      <th>neg</th>\n",
       "      <th>neu</th>\n",
       "      <th>pos</th>\n",
       "      <th>compound</th>\n",
       "    </tr>\n",
       "  </thead>\n",
       "  <tbody>\n",
       "    <tr>\n",
       "      <th>count</th>\n",
       "      <td>671.000000</td>\n",
       "      <td>671.000000</td>\n",
       "      <td>671.000000</td>\n",
       "      <td>671.000000</td>\n",
       "    </tr>\n",
       "    <tr>\n",
       "      <th>mean</th>\n",
       "      <td>0.061624</td>\n",
       "      <td>0.850770</td>\n",
       "      <td>0.087601</td>\n",
       "      <td>0.041465</td>\n",
       "    </tr>\n",
       "    <tr>\n",
       "      <th>std</th>\n",
       "      <td>0.122014</td>\n",
       "      <td>0.164493</td>\n",
       "      <td>0.129112</td>\n",
       "      <td>0.328926</td>\n",
       "    </tr>\n",
       "    <tr>\n",
       "      <th>min</th>\n",
       "      <td>0.000000</td>\n",
       "      <td>0.222000</td>\n",
       "      <td>0.000000</td>\n",
       "      <td>-0.922900</td>\n",
       "    </tr>\n",
       "    <tr>\n",
       "      <th>25%</th>\n",
       "      <td>0.000000</td>\n",
       "      <td>0.745500</td>\n",
       "      <td>0.000000</td>\n",
       "      <td>0.000000</td>\n",
       "    </tr>\n",
       "    <tr>\n",
       "      <th>50%</th>\n",
       "      <td>0.000000</td>\n",
       "      <td>0.882000</td>\n",
       "      <td>0.000000</td>\n",
       "      <td>0.000000</td>\n",
       "    </tr>\n",
       "    <tr>\n",
       "      <th>75%</th>\n",
       "      <td>0.078500</td>\n",
       "      <td>1.000000</td>\n",
       "      <td>0.162000</td>\n",
       "      <td>0.214400</td>\n",
       "    </tr>\n",
       "    <tr>\n",
       "      <th>max</th>\n",
       "      <td>0.767000</td>\n",
       "      <td>1.000000</td>\n",
       "      <td>0.778000</td>\n",
       "      <td>0.918600</td>\n",
       "    </tr>\n",
       "  </tbody>\n",
       "</table>\n",
       "</div>"
      ],
      "text/plain": [
       "              neg         neu         pos    compound\n",
       "count  671.000000  671.000000  671.000000  671.000000\n",
       "mean     0.061624    0.850770    0.087601    0.041465\n",
       "std      0.122014    0.164493    0.129112    0.328926\n",
       "min      0.000000    0.222000    0.000000   -0.922900\n",
       "25%      0.000000    0.745500    0.000000    0.000000\n",
       "50%      0.000000    0.882000    0.000000    0.000000\n",
       "75%      0.078500    1.000000    0.162000    0.214400\n",
       "max      0.767000    1.000000    0.778000    0.918600"
      ]
     },
     "execution_count": 6,
     "metadata": {},
     "output_type": "execute_result"
    }
   ],
   "source": [
    "df = pd.DataFrame.from_records(results)\n",
    "df.describe()"
   ]
  },
  {
   "cell_type": "markdown",
   "id": "e5b3b406",
   "metadata": {},
   "source": [
    "Set thresholds on compound score: \n",
    "\n",
    " - Compound > 0.2 $\\Rightarrow$ Positive\n",
    " - Compound < -0.2 $\\Rightarrow$ Negative\n",
    " - -0.2 < Compound < 0.2 $\\Rightarrow$  Neutral"
   ]
  },
  {
   "cell_type": "code",
   "execution_count": 7,
   "id": "d739e3c2",
   "metadata": {},
   "outputs": [
    {
     "data": {
      "text/html": [
       "<div>\n",
       "<style scoped>\n",
       "    .dataframe tbody tr th:only-of-type {\n",
       "        vertical-align: middle;\n",
       "    }\n",
       "\n",
       "    .dataframe tbody tr th {\n",
       "        vertical-align: top;\n",
       "    }\n",
       "\n",
       "    .dataframe thead th {\n",
       "        text-align: right;\n",
       "    }\n",
       "</style>\n",
       "<table border=\"1\" class=\"dataframe\">\n",
       "  <thead>\n",
       "    <tr style=\"text-align: right;\">\n",
       "      <th></th>\n",
       "      <th>neg</th>\n",
       "      <th>neu</th>\n",
       "      <th>pos</th>\n",
       "      <th>compound</th>\n",
       "      <th>headline</th>\n",
       "      <th>result</th>\n",
       "    </tr>\n",
       "  </thead>\n",
       "  <tbody>\n",
       "    <tr>\n",
       "      <th>0</th>\n",
       "      <td>0.000</td>\n",
       "      <td>0.841</td>\n",
       "      <td>0.159</td>\n",
       "      <td>0.1779</td>\n",
       "      <td>Amazon Marketplace Owners Can Now Be Bought Ou...</td>\n",
       "      <td>Neutral</td>\n",
       "    </tr>\n",
       "    <tr>\n",
       "      <th>1</th>\n",
       "      <td>0.000</td>\n",
       "      <td>1.000</td>\n",
       "      <td>0.000</td>\n",
       "      <td>0.0000</td>\n",
       "      <td>Are any cryptos still “untraceable”</td>\n",
       "      <td>Neutral</td>\n",
       "    </tr>\n",
       "    <tr>\n",
       "      <th>2</th>\n",
       "      <td>0.000</td>\n",
       "      <td>0.816</td>\n",
       "      <td>0.184</td>\n",
       "      <td>0.4019</td>\n",
       "      <td>Crypto Tax Software Firm CoinTracker Raises $1...</td>\n",
       "      <td>Postive</td>\n",
       "    </tr>\n",
       "    <tr>\n",
       "      <th>3</th>\n",
       "      <td>0.000</td>\n",
       "      <td>1.000</td>\n",
       "      <td>0.000</td>\n",
       "      <td>0.0000</td>\n",
       "      <td>Invested in land Sandbox</td>\n",
       "      <td>Neutral</td>\n",
       "    </tr>\n",
       "    <tr>\n",
       "      <th>4</th>\n",
       "      <td>0.259</td>\n",
       "      <td>0.741</td>\n",
       "      <td>0.000</td>\n",
       "      <td>-0.2732</td>\n",
       "      <td>e SEC has blocked Anthony Scaramucci's Bitcoin...</td>\n",
       "      <td>Negative</td>\n",
       "    </tr>\n",
       "  </tbody>\n",
       "</table>\n",
       "</div>"
      ],
      "text/plain": [
       "     neg    neu    pos  compound  \\\n",
       "0  0.000  0.841  0.159    0.1779   \n",
       "1  0.000  1.000  0.000    0.0000   \n",
       "2  0.000  0.816  0.184    0.4019   \n",
       "3  0.000  1.000  0.000    0.0000   \n",
       "4  0.259  0.741  0.000   -0.2732   \n",
       "\n",
       "                                            headline    result  \n",
       "0  Amazon Marketplace Owners Can Now Be Bought Ou...   Neutral  \n",
       "1                Are any cryptos still “untraceable”   Neutral  \n",
       "2  Crypto Tax Software Firm CoinTracker Raises $1...   Postive  \n",
       "3                           Invested in land Sandbox   Neutral  \n",
       "4  e SEC has blocked Anthony Scaramucci's Bitcoin...  Negative  "
      ]
     },
     "execution_count": 7,
     "metadata": {},
     "output_type": "execute_result"
    }
   ],
   "source": [
    "df['result'] = \"Neutral\"\n",
    "df.loc[df['compound'] > 0.2, 'result'] = \"Postive\"\n",
    "df.loc[df['compound'] < -0.2, 'result'] = \"Negative\"\n",
    "df.head()"
   ]
  },
  {
   "cell_type": "markdown",
   "id": "b2693f62",
   "metadata": {},
   "source": [
    "## Sentiment Barplot"
   ]
  },
  {
   "cell_type": "code",
   "execution_count": 8,
   "id": "cdfb5e7f",
   "metadata": {},
   "outputs": [
    {
     "data": {
      "text/plain": [
       "<AxesSubplot:ylabel='result'>"
      ]
     },
     "execution_count": 8,
     "metadata": {},
     "output_type": "execute_result"
    },
    {
     "data": {
      "image/png": "[encoded data removed]",
      "text/plain": [
       "<Figure size 432x288 with 1 Axes>"
      ]
     },
     "metadata": {},
     "output_type": "display_data"
    }
   ],
   "source": [
    "counts = df.result.value_counts(normalize=True)\n",
    "sns.barplot(x=counts.index, y=counts)"
   ]
  },
  {
   "cell_type": "code",
   "execution_count": 10,
   "id": "96d03223",
   "metadata": {},
   "outputs": [
    {
     "name": "stdout",
     "output_type": "stream",
     "text": [
      "Positive headlines:\n",
      "\n",
      "['Crypto Tax Software Firm CoinTracker Raises $100M to Help Traders Prep for IRS',\n",
      " 'Digital Currency Group announces $10M investment in Railgun, a Layer-1 privacy solution for Ethereum',\n",
      " \"What's The Best Coin To Stake?\",\n",
      " 'OK, PANIC over. You can relax. Maybe even buy some bitcoin.',\n",
      " 'Putin Comments Revive Hope For Cryptocurrencies In Russia']\n",
      "\n",
      "Negative headlines:\n",
      "\n",
      "[\"e SEC has blocked Anthony Scaramucci's Bitcoin ETF\",\n",
      " \"SEC rejects Fidelity's proposed spot Bitcoin ETF\",\n",
      " 'Bounce or more pain? Macroexpert gives his opinion.',\n",
      " '30,000 Bitcoin Millionaires Vanish After Crypto Crash - Nah, they just changed their status for a short while!',\n",
      " 'Zombie Atari Shits On 50-Year Legacy With NFT Loot Boxes']\n"
     ]
    }
   ],
   "source": [
    "print(\"Positive headlines:\\n\")\n",
    "pprint(list(df[df['result'] == \"Postive\"].headline)[:5], width=200)\n",
    "\n",
    "print(\"\\nNegative headlines:\\n\")\n",
    "pprint(list(df[df['result'] == \"Negative\"].headline)[:5], width=200)"
   ]
  },
  {
   "cell_type": "code",
   "execution_count": null,
   "id": "ab3b6c1a",
   "metadata": {},
   "outputs": [],
   "source": []
  },
  {
   "cell_type": "code",
   "execution_count": null,
   "id": "420ca49e",
   "metadata": {},
   "outputs": [],
   "source": []
  }
 ],
 "metadata": {
  "kernelspec": {
   "display_name": "Python 3 (ipykernel)",
   "language": "python",
   "name": "python3"
  },
  "language_info": {
   "codemirror_mode": {
    "name": "ipython",
    "version": 3
   },
   "file_extension": ".py",
   "mimetype": "text/x-python",
   "name": "python",
   "nbconvert_exporter": "python",
   "pygments_lexer": "ipython3",
   "version": "3.9.7"
  }
 },
 "nbformat": 4,
 "nbformat_minor": 5
}

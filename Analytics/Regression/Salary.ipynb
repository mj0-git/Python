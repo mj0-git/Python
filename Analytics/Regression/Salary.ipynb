{
 "cells": [
  {
   "cell_type": "markdown",
   "id": "13c88845",
   "metadata": {},
   "source": [
    "# Overview\n",
    "\n",
    "Demonstrate building a linear regression model to predict salary based on years of experience. \n",
    "\n",
    "We will be using the Salary dataset obtained from Kaggle: https://www.kaggle.com/sudhirnl7/linear-regression-tutorial/data"
   ]
  },
  {
   "cell_type": "code",
   "execution_count": 24,
   "id": "2d3ba34c",
   "metadata": {},
   "outputs": [],
   "source": [
    "import pandas as pd\n",
    "import matplotlib.pyplot as plt\n",
    "import seaborn as sns\n",
    "from sklearn.linear_model import LinearRegression\n",
    "from sklearn.model_selection import train_test_split"
   ]
  },
  {
   "cell_type": "code",
   "execution_count": 6,
   "id": "e54c0be5",
   "metadata": {},
   "outputs": [],
   "source": [
    "df = pd.read_csv(\"data/Salary.csv\")"
   ]
  },
  {
   "cell_type": "markdown",
   "id": "ce9b6efb",
   "metadata": {},
   "source": [
    "## Understanding the Data"
   ]
  },
  {
   "cell_type": "markdown",
   "id": "f966f802",
   "metadata": {},
   "source": [
    "Below we can see two numeric variables:\n",
    "\n",
    "- **YearsExpierence**: Number of years working (Continuous)\n",
    "- **Salary**: Salary amount (Continuous)"
   ]
  },
  {
   "cell_type": "code",
   "execution_count": 23,
   "id": "7a671538",
   "metadata": {
    "scrolled": false
   },
   "outputs": [
    {
     "data": {
      "text/html": [
       "<div>\n",
       "<style scoped>\n",
       "    .dataframe tbody tr th:only-of-type {\n",
       "        vertical-align: middle;\n",
       "    }\n",
       "\n",
       "    .dataframe tbody tr th {\n",
       "        vertical-align: top;\n",
       "    }\n",
       "\n",
       "    .dataframe thead th {\n",
       "        text-align: right;\n",
       "    }\n",
       "</style>\n",
       "<table border=\"1\" class=\"dataframe\">\n",
       "  <thead>\n",
       "    <tr style=\"text-align: right;\">\n",
       "      <th></th>\n",
       "      <th>years</th>\n",
       "      <th>salary</th>\n",
       "    </tr>\n",
       "  </thead>\n",
       "  <tbody>\n",
       "    <tr>\n",
       "      <th>0</th>\n",
       "      <td>1.1</td>\n",
       "      <td>39343</td>\n",
       "    </tr>\n",
       "    <tr>\n",
       "      <th>1</th>\n",
       "      <td>1.3</td>\n",
       "      <td>46205</td>\n",
       "    </tr>\n",
       "    <tr>\n",
       "      <th>2</th>\n",
       "      <td>1.5</td>\n",
       "      <td>37731</td>\n",
       "    </tr>\n",
       "    <tr>\n",
       "      <th>3</th>\n",
       "      <td>2.0</td>\n",
       "      <td>43525</td>\n",
       "    </tr>\n",
       "    <tr>\n",
       "      <th>4</th>\n",
       "      <td>2.2</td>\n",
       "      <td>39891</td>\n",
       "    </tr>\n",
       "  </tbody>\n",
       "</table>\n",
       "</div>"
      ],
      "text/plain": [
       "   years  salary\n",
       "0    1.1   39343\n",
       "1    1.3   46205\n",
       "2    1.5   37731\n",
       "3    2.0   43525\n",
       "4    2.2   39891"
      ]
     },
     "execution_count": 23,
     "metadata": {},
     "output_type": "execute_result"
    }
   ],
   "source": [
    "df.head()"
   ]
  },
  {
   "cell_type": "code",
   "execution_count": 12,
   "id": "53c3637f",
   "metadata": {},
   "outputs": [
    {
     "name": "stdout",
     "output_type": "stream",
     "text": [
      "<class 'pandas.core.frame.DataFrame'>\n",
      "RangeIndex: 35 entries, 0 to 34\n",
      "Data columns (total 2 columns):\n",
      " #   Column           Non-Null Count  Dtype  \n",
      "---  ------           --------------  -----  \n",
      " 0   YearsExperience  35 non-null     float64\n",
      " 1   Salary           35 non-null     int64  \n",
      "dtypes: float64(1), int64(1)\n",
      "memory usage: 688.0 bytes\n"
     ]
    }
   ],
   "source": [
    "df.info()"
   ]
  },
  {
   "cell_type": "code",
   "execution_count": 13,
   "id": "e63d6f76",
   "metadata": {},
   "outputs": [
    {
     "data": {
      "text/html": [
       "<div>\n",
       "<style scoped>\n",
       "    .dataframe tbody tr th:only-of-type {\n",
       "        vertical-align: middle;\n",
       "    }\n",
       "\n",
       "    .dataframe tbody tr th {\n",
       "        vertical-align: top;\n",
       "    }\n",
       "\n",
       "    .dataframe thead th {\n",
       "        text-align: right;\n",
       "    }\n",
       "</style>\n",
       "<table border=\"1\" class=\"dataframe\">\n",
       "  <thead>\n",
       "    <tr style=\"text-align: right;\">\n",
       "      <th></th>\n",
       "      <th>YearsExperience</th>\n",
       "      <th>Salary</th>\n",
       "    </tr>\n",
       "  </thead>\n",
       "  <tbody>\n",
       "    <tr>\n",
       "      <th>count</th>\n",
       "      <td>35.000000</td>\n",
       "      <td>35.000000</td>\n",
       "    </tr>\n",
       "    <tr>\n",
       "      <th>mean</th>\n",
       "      <td>6.308571</td>\n",
       "      <td>83945.600000</td>\n",
       "    </tr>\n",
       "    <tr>\n",
       "      <th>std</th>\n",
       "      <td>3.618610</td>\n",
       "      <td>32162.673003</td>\n",
       "    </tr>\n",
       "    <tr>\n",
       "      <th>min</th>\n",
       "      <td>1.100000</td>\n",
       "      <td>37731.000000</td>\n",
       "    </tr>\n",
       "    <tr>\n",
       "      <th>25%</th>\n",
       "      <td>3.450000</td>\n",
       "      <td>57019.000000</td>\n",
       "    </tr>\n",
       "    <tr>\n",
       "      <th>50%</th>\n",
       "      <td>5.300000</td>\n",
       "      <td>81363.000000</td>\n",
       "    </tr>\n",
       "    <tr>\n",
       "      <th>75%</th>\n",
       "      <td>9.250000</td>\n",
       "      <td>113223.500000</td>\n",
       "    </tr>\n",
       "    <tr>\n",
       "      <th>max</th>\n",
       "      <td>13.500000</td>\n",
       "      <td>139465.000000</td>\n",
       "    </tr>\n",
       "  </tbody>\n",
       "</table>\n",
       "</div>"
      ],
      "text/plain": [
       "       YearsExperience         Salary\n",
       "count        35.000000      35.000000\n",
       "mean          6.308571   83945.600000\n",
       "std           3.618610   32162.673003\n",
       "min           1.100000   37731.000000\n",
       "25%           3.450000   57019.000000\n",
       "50%           5.300000   81363.000000\n",
       "75%           9.250000  113223.500000\n",
       "max          13.500000  139465.000000"
      ]
     },
     "execution_count": 13,
     "metadata": {},
     "output_type": "execute_result"
    }
   ],
   "source": [
    "df.describe()"
   ]
  },
  {
   "cell_type": "markdown",
   "id": "38180021",
   "metadata": {},
   "source": [
    "Lets quickly change the column names to **years** and **salary** for convenience "
   ]
  },
  {
   "cell_type": "code",
   "execution_count": 14,
   "id": "73568bb4",
   "metadata": {},
   "outputs": [
    {
     "data": {
      "text/plain": [
       "array(['years', 'salary'], dtype=object)"
      ]
     },
     "execution_count": 14,
     "metadata": {},
     "output_type": "execute_result"
    }
   ],
   "source": [
    "new_cols = {\"YearsExperience\":\"years\", \"Salary\":\"salary\"}\n",
    "df.rename(columns=new_cols, inplace=True)\n",
    "df.columns.values"
   ]
  },
  {
   "cell_type": "markdown",
   "id": "c638a7ba",
   "metadata": {},
   "source": [
    "## Visualize Data using Seaborn"
   ]
  },
  {
   "cell_type": "markdown",
   "id": "cca3bbab",
   "metadata": {},
   "source": [
    "Next step is to visualize the relationship amoung explanatory variable *years* against response variable *salary* "
   ]
  },
  {
   "cell_type": "code",
   "execution_count": 25,
   "id": "c689d8d0",
   "metadata": {},
   "outputs": [
    {
     "data": {
      "image/png": "[encoded data removed]",
      "text/plain": [
       "<Figure size 432x288 with 1 Axes>"
      ]
     },
     "metadata": {
      "needs_background": "light"
     },
     "output_type": "display_data"
    }
   ],
   "source": [
    "ax = sns.regplot(x=\"years\", y=\"salary\", data=df, fit_reg=True)\n",
    "ax.set(xlabel=\"Years\", ylabel=\"Salary\")\n",
    "plt.show()"
   ]
  },
  {
   "cell_type": "markdown",
   "id": "fa78ca91",
   "metadata": {},
   "source": [
    "Viewing above, we can see a positive correlation amount salary and the number of years working. It also appears there is a strong correlation provided regression line. Let's verify this by computing a correlation matrix. "
   ]
  },
  {
   "cell_type": "code",
   "execution_count": 22,
   "id": "31c07678",
   "metadata": {},
   "outputs": [
    {
     "data": {
      "text/html": [
       "<div>\n",
       "<style scoped>\n",
       "    .dataframe tbody tr th:only-of-type {\n",
       "        vertical-align: middle;\n",
       "    }\n",
       "\n",
       "    .dataframe tbody tr th {\n",
       "        vertical-align: top;\n",
       "    }\n",
       "\n",
       "    .dataframe thead th {\n",
       "        text-align: right;\n",
       "    }\n",
       "</style>\n",
       "<table border=\"1\" class=\"dataframe\">\n",
       "  <thead>\n",
       "    <tr style=\"text-align: right;\">\n",
       "      <th></th>\n",
       "      <th>years</th>\n",
       "      <th>salary</th>\n",
       "    </tr>\n",
       "  </thead>\n",
       "  <tbody>\n",
       "    <tr>\n",
       "      <th>years</th>\n",
       "      <td>1.000000</td>\n",
       "      <td>0.982427</td>\n",
       "    </tr>\n",
       "    <tr>\n",
       "      <th>salary</th>\n",
       "      <td>0.982427</td>\n",
       "      <td>1.000000</td>\n",
       "    </tr>\n",
       "  </tbody>\n",
       "</table>\n",
       "</div>"
      ],
      "text/plain": [
       "           years    salary\n",
       "years   1.000000  0.982427\n",
       "salary  0.982427  1.000000"
      ]
     },
     "execution_count": 22,
     "metadata": {},
     "output_type": "execute_result"
    }
   ],
   "source": [
    "df.corr(method='pearson')"
   ]
  },
  {
   "cell_type": "markdown",
   "id": "c8a7d910",
   "metadata": {},
   "source": [
    "As expected, strong correlation score of 0.9824. Which is great news for your Linear Regression model!"
   ]
  },
  {
   "cell_type": "markdown",
   "id": "7be8ff27",
   "metadata": {},
   "source": [
    "## Model Building using Linear Regression"
   ]
  },
  {
   "cell_type": "markdown",
   "id": "456def8b",
   "metadata": {},
   "source": [
    "Next up, lets build our Linear Regression model using sklearn. First step is to split up the data into training and test sets"
   ]
  },
  {
   "cell_type": "code",
   "execution_count": 47,
   "id": "d25e5de8",
   "metadata": {},
   "outputs": [],
   "source": [
    "# Declare X and y\n",
    "X = df[\"years\"].values.reshape(-1,1)\n",
    "y = df[\"salary\"].values"
   ]
  },
  {
   "cell_type": "code",
   "execution_count": 48,
   "id": "fffb6882",
   "metadata": {},
   "outputs": [
    {
     "name": "stdout",
     "output_type": "stream",
     "text": [
      "[116969  57081 109431  98273  67938 121872  93940  56957  64445  66029\n",
      "  57189]\n"
     ]
    }
   ],
   "source": [
    "# Create training and test sets where 30% is used for testing\n",
    "X_train, X_test, y_train, y_test = train_test_split(X, y, test_size=0.3, random_state=42)\n",
    "print(y_test)"
   ]
  },
  {
   "cell_type": "markdown",
   "id": "f41f41e9",
   "metadata": {},
   "source": [
    "Afterward, create linear regression regressor and fit it to the training set"
   ]
  },
  {
   "cell_type": "code",
   "execution_count": 49,
   "id": "54c78819",
   "metadata": {},
   "outputs": [
    {
     "data": {
      "text/plain": [
       "LinearRegression()"
      ]
     },
     "execution_count": 49,
     "metadata": {},
     "output_type": "execute_result"
    }
   ],
   "source": [
    "# Create regressor\n",
    "reg = LinearRegression()\n",
    "\n",
    "# Fit the regressor on training data\n",
    "reg.fit(X_train, y_train)"
   ]
  },
  {
   "cell_type": "markdown",
   "id": "83661930",
   "metadata": {},
   "source": [
    "Now, we are ready to predict! We can see the predicted y values given our X_test data"
   ]
  },
  {
   "cell_type": "code",
   "execution_count": 63,
   "id": "dd73ffe7",
   "metadata": {},
   "outputs": [
    {
     "data": {
      "text/plain": [
       "array([110877.79583392,  64678.96421127, 104033.52448241,  90344.98177941,\n",
       "        71523.23556278, 119433.1350233 ,  80934.10867109,  63823.43029234,\n",
       "        56979.15894083,  73234.30340065,  61256.82853552])"
      ]
     },
     "execution_count": 63,
     "metadata": {},
     "output_type": "execute_result"
    }
   ],
   "source": [
    "y_pred = reg.predict(X_test)\n",
    "y_pred"
   ]
  },
  {
   "cell_type": "markdown",
   "id": "1a61ddd9",
   "metadata": {},
   "source": [
    "Lets compare y_test and y_pred side-by-side"
   ]
  },
  {
   "cell_type": "code",
   "execution_count": 72,
   "id": "6f3efb17",
   "metadata": {},
   "outputs": [
    {
     "data": {
      "text/html": [
       "<div>\n",
       "<style scoped>\n",
       "    .dataframe tbody tr th:only-of-type {\n",
       "        vertical-align: middle;\n",
       "    }\n",
       "\n",
       "    .dataframe tbody tr th {\n",
       "        vertical-align: top;\n",
       "    }\n",
       "\n",
       "    .dataframe thead th {\n",
       "        text-align: right;\n",
       "    }\n",
       "</style>\n",
       "<table border=\"1\" class=\"dataframe\">\n",
       "  <thead>\n",
       "    <tr style=\"text-align: right;\">\n",
       "      <th></th>\n",
       "      <th>y_test</th>\n",
       "      <th>y_pred</th>\n",
       "    </tr>\n",
       "  </thead>\n",
       "  <tbody>\n",
       "    <tr>\n",
       "      <th>0</th>\n",
       "      <td>116969</td>\n",
       "      <td>110877.795834</td>\n",
       "    </tr>\n",
       "    <tr>\n",
       "      <th>1</th>\n",
       "      <td>57081</td>\n",
       "      <td>64678.964211</td>\n",
       "    </tr>\n",
       "    <tr>\n",
       "      <th>2</th>\n",
       "      <td>109431</td>\n",
       "      <td>104033.524482</td>\n",
       "    </tr>\n",
       "    <tr>\n",
       "      <th>3</th>\n",
       "      <td>98273</td>\n",
       "      <td>90344.981779</td>\n",
       "    </tr>\n",
       "    <tr>\n",
       "      <th>4</th>\n",
       "      <td>67938</td>\n",
       "      <td>71523.235563</td>\n",
       "    </tr>\n",
       "  </tbody>\n",
       "</table>\n",
       "</div>"
      ],
      "text/plain": [
       "   y_test         y_pred\n",
       "0  116969  110877.795834\n",
       "1   57081   64678.964211\n",
       "2  109431  104033.524482\n",
       "3   98273   90344.981779\n",
       "4   67938   71523.235563"
      ]
     },
     "execution_count": 72,
     "metadata": {},
     "output_type": "execute_result"
    }
   ],
   "source": [
    "# Create new dataframe \n",
    "d = {\"y_test\":y_test, \"y_pred\":y_pred}\n",
    "df_result = pd.DataFrame(data=d)\n",
    "\n",
    "df_result.head()"
   ]
  },
  {
   "cell_type": "markdown",
   "id": "1bf08f25",
   "metadata": {},
   "source": [
    "Finally, we can evaluate the performance of linear regression by computing the $R^2$ score"
   ]
  },
  {
   "cell_type": "code",
   "execution_count": 73,
   "id": "9aaacdba",
   "metadata": {},
   "outputs": [
    {
     "data": {
      "text/plain": [
       "0.9171426108885095"
      ]
     },
     "execution_count": 73,
     "metadata": {},
     "output_type": "execute_result"
    }
   ],
   "source": [
    "from sklearn.metrics import r2_score\n",
    "r2 = r2_score(y_test,y_pred)\n",
    "r2"
   ]
  },
  {
   "cell_type": "markdown",
   "id": "f7b151af",
   "metadata": {},
   "source": [
    "Nice, computed a very high score! This means there is a low variance among our predictions - the model fits our data."
   ]
  }
 ],
 "metadata": {
  "kernelspec": {
   "display_name": "Python 3 (ipykernel)",
   "language": "python",
   "name": "python3"
  },
  "language_info": {
   "codemirror_mode": {
    "name": "ipython",
    "version": 3
   },
   "file_extension": ".py",
   "mimetype": "text/x-python",
   "name": "python",
   "nbconvert_exporter": "python",
   "pygments_lexer": "ipython3",
   "version": "3.9.7"
  }
 },
 "nbformat": 4,
 "nbformat_minor": 5
}

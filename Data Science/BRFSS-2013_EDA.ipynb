{
 "cells": [
  {
   "cell_type": "code",
   "execution_count": 75,
   "id": "8bafcf37",
   "metadata": {},
   "outputs": [],
   "source": [
    "import pandas as pd\n",
    "import matplotlib.pyplot as plt\n",
    "import numpy as np\n",
    "import seaborn as sns\n",
    "\n",
    "from IPython.display import display\n",
    "pd.set_option(\"display.max_rows\", None)\n",
    "\n",
    "import warnings\n",
    "warnings.filterwarnings(\"ignore\")"
   ]
  },
  {
   "cell_type": "markdown",
   "id": "8ca12849",
   "metadata": {},
   "source": [
    "# Overview\n",
    "\n",
    "Following is an exploratory data analysis of the Behavioral Risk Factor Surveillance System (BRFSS) 2013 data set. \n",
    "\n",
    "The Behavioral Risk Factor Surveillance System (BRFSS) is an ongoing surveillance system designed to measure behavioral risk factors for the non-institutionalized adult population living in the United States. The objective is to collect data on preventive health practices and risk behaviors that are linked to chronic diseases, injuries, and preventable infectious diseases. \n",
    "\n",
    "Data is collected by landline telephone and cellular telephone-based surveys from a randomly selected adult in a household. Doing so implies any inference made on such data should be generalizable to the entirety of the US population. As well, the scope of inference is limited to generalizability by observational study - relationships discovered may indicate association, but not causation."
   ]
  },
  {
   "cell_type": "markdown",
   "id": "15145f68",
   "metadata": {},
   "source": [
    "##  Import Data"
   ]
  },
  {
   "cell_type": "code",
   "execution_count": 76,
   "id": "c4124ea5",
   "metadata": {},
   "outputs": [],
   "source": [
    "# Import csv\n",
    "df = pd.read_csv('2013.csv')\n",
    "pd.options.display.max_columns = None"
   ]
  },
  {
   "cell_type": "code",
   "execution_count": 77,
   "id": "ae9e8738",
   "metadata": {},
   "outputs": [
    {
     "data": {
      "text/plain": [
       "(491773, 336)"
      ]
     },
     "execution_count": 77,
     "metadata": {},
     "output_type": "execute_result"
    }
   ],
   "source": [
    "# Number of columns\n",
    "df.shape"
   ]
  },
  {
   "cell_type": "markdown",
   "id": "9409183d",
   "metadata": {},
   "source": [
    "## Research Question 1\n",
    "\n",
    "What is the relationship (if any) between average number of drinks and general health split by gender?\n",
    "\n",
    "Variables: genhlth(Categorical), sex(Categorical), avedrnk2(Numerical)"
   ]
  },
  {
   "cell_type": "code",
   "execution_count": 78,
   "id": "49296733",
   "metadata": {},
   "outputs": [
    {
     "data": {
      "text/html": [
       "<div>\n",
       "<style scoped>\n",
       "    .dataframe tbody tr th:only-of-type {\n",
       "        vertical-align: middle;\n",
       "    }\n",
       "\n",
       "    .dataframe tbody tr th {\n",
       "        vertical-align: top;\n",
       "    }\n",
       "\n",
       "    .dataframe thead th {\n",
       "        text-align: right;\n",
       "    }\n",
       "</style>\n",
       "<table border=\"1\" class=\"dataframe\">\n",
       "  <thead>\n",
       "    <tr style=\"text-align: right;\">\n",
       "      <th></th>\n",
       "      <th>GENHLTH</th>\n",
       "      <th>SEX</th>\n",
       "      <th>AVEDRNK2</th>\n",
       "    </tr>\n",
       "  </thead>\n",
       "  <tbody>\n",
       "    <tr>\n",
       "      <th>0</th>\n",
       "      <td>4.0</td>\n",
       "      <td>2.0</td>\n",
       "      <td>2.0</td>\n",
       "    </tr>\n",
       "    <tr>\n",
       "      <th>1</th>\n",
       "      <td>3.0</td>\n",
       "      <td>2.0</td>\n",
       "      <td>NaN</td>\n",
       "    </tr>\n",
       "    <tr>\n",
       "      <th>2</th>\n",
       "      <td>3.0</td>\n",
       "      <td>2.0</td>\n",
       "      <td>4.0</td>\n",
       "    </tr>\n",
       "    <tr>\n",
       "      <th>3</th>\n",
       "      <td>2.0</td>\n",
       "      <td>2.0</td>\n",
       "      <td>2.0</td>\n",
       "    </tr>\n",
       "    <tr>\n",
       "      <th>4</th>\n",
       "      <td>3.0</td>\n",
       "      <td>1.0</td>\n",
       "      <td>2.0</td>\n",
       "    </tr>\n",
       "  </tbody>\n",
       "</table>\n",
       "</div>"
      ],
      "text/plain": [
       "   GENHLTH  SEX  AVEDRNK2\n",
       "0      4.0  2.0       2.0\n",
       "1      3.0  2.0       NaN\n",
       "2      3.0  2.0       4.0\n",
       "3      2.0  2.0       2.0\n",
       "4      3.0  1.0       2.0"
      ]
     },
     "execution_count": 78,
     "metadata": {},
     "output_type": "execute_result"
    }
   ],
   "source": [
    "# EDA: General Health and Avg Number of drinks \n",
    "col_names = ['GENHLTH','SEX', 'AVEDRNK2']\n",
    "alcohol_health = df[col_names]\n",
    "alcohol_health.head()"
   ]
  },
  {
   "cell_type": "code",
   "execution_count": 81,
   "id": "b3836995",
   "metadata": {},
   "outputs": [],
   "source": [
    "# Rename SEX\n",
    "alcohol_health[\"SEX\"] = alcohol_health.SEX.replace({1:'Male', 2:'Female'})\n",
    "\n",
    "# Rename GENHLTH\n",
    "gen_health = {1:'Excellent', 2:'Very Good', 3:'Good', 4:'Fair', 5:'Poor', 7:np.NaN, 9:np.NaN}\n",
    "alcohol_health[\"GENHLTH\"] = alcohol_health.GENHLTH.replace(gen_health)\n",
    "\n",
    "# Drop NA\n",
    "alcohol_health.dropna(inplace=True)\n"
   ]
  },
  {
   "cell_type": "code",
   "execution_count": 147,
   "id": "47333272",
   "metadata": {
    "scrolled": true
   },
   "outputs": [
    {
     "data": {
      "image/png": "[encoded data removed]",
      "text/plain": [
       "<Figure size 432x288 with 1 Axes>"
      ]
     },
     "metadata": {
      "needs_background": "light"
     },
     "output_type": "display_data"
    }
   ],
   "source": [
    "# Graph results\n",
    "ax = sns.catplot(x=\"GENHLTH\", y=\"AVEDRNK2\", hue='SEX',\n",
    "            data=alcohol_health,\n",
    "            kind=\"bar\",\n",
    "            ci=None,\n",
    "            order=[\"Poor\", \"Fair\", \"Good\", \"Very Good\", \"Excellent\"])\n",
    "# Set labels\n",
    "ax.set(xlabel=\"Quality of General Health\",\n",
    "        ylabel=\"Avg # Drinks (per month)\")\n",
    "\n",
    "ax.fig.set_size_inches(6,4)\n",
    "\n",
    "plt.show()"
   ]
  },
  {
   "cell_type": "markdown",
   "id": "e369079a",
   "metadata": {},
   "source": [
    "### Result\n",
    "\n",
    "Individuals of higher quality are associated with drinking less frequently, and Male's are associated with drinking more than females"
   ]
  },
  {
   "cell_type": "markdown",
   "id": "86b12ce0",
   "metadata": {},
   "source": [
    "## Research Question 2\n",
    "\n",
    "What is the relationship (if any) between time slept and the number of bad mental health days over the last 30 days. Are there significant differences between working out and not working out? \n",
    "\n",
    "Variables: sleptim1(Numerical), menthlth(Numerical), exerany2(Categorical)\n",
    "            "
   ]
  },
  {
   "cell_type": "code",
   "execution_count": 109,
   "id": "e9996fad",
   "metadata": {},
   "outputs": [],
   "source": [
    "sleep_menhlth = df[[\"SLEPTIM1\", \"MENTHLTH\", \"EXERANY2\"]]"
   ]
  },
  {
   "cell_type": "code",
   "execution_count": 118,
   "id": "47f40fdb",
   "metadata": {},
   "outputs": [
    {
     "data": {
      "text/plain": [
       "12229"
      ]
     },
     "execution_count": 118,
     "metadata": {},
     "output_type": "execute_result"
    }
   ],
   "source": [
    "# Repalce missing with NA and rename EXERANY2\n",
    "sleep_menhlth[\"MENTHLTH\"] = sleep_menhlth.MENTHLTH.replace({77: np.NaN, 99:np.NaN, 88: np.NaN})\n",
    "sleep_menhlth[\"SLEPTIM1\"] = sleep_menhlth.SLEPTIM1.replace({77: np.NaN, 99:np.NaN})\n",
    "sleep_menhlth[\"EXERANY2\"] = sleep_menhlth.EXERANY2.replace({1:True, 2: False, 7: np.NaN, 9:np.NaN})\n",
    "\n",
    "# Drop NA \n",
    "sleep_menhlth.dropna(inplace=True)\n",
    "\n",
    "sleep_menhlth.head()"
   ]
  },
  {
   "cell_type": "code",
   "execution_count": 140,
   "id": "b9563821",
   "metadata": {},
   "outputs": [
    {
     "data": {
      "text/plain": [
       "<seaborn.axisgrid.FacetGrid at 0x7fafdae76af0>"
      ]
     },
     "execution_count": 140,
     "metadata": {},
     "output_type": "execute_result"
    },
    {
     "data": {
      "image/png": "[encoded data removed]",
      "text/plain": [
       "<Figure size 421.25x360 with 1 Axes>"
      ]
     },
     "metadata": {
      "needs_background": "light"
     },
     "output_type": "display_data"
    }
   ],
   "source": [
    "# Graph scatter plot\n",
    "sns.relplot(x=\"SLEPTIM1\", y=\"MENTHLTH\", data=sleep_menhlth, kind=\"line\", ci=None, hue=\"EXERANY2\")"
   ]
  },
  {
   "cell_type": "markdown",
   "id": "3aa9bb2e",
   "metadata": {},
   "source": [
    "### Result\n",
    "\n",
    "6-8 hours of sleep and exercise are associated with fewer bad mental health days\n"
   ]
  }
 ],
 "metadata": {
  "kernelspec": {
   "display_name": "Python 3 (ipykernel)",
   "language": "python",
   "name": "python3"
  },
  "language_info": {
   "codemirror_mode": {
    "name": "ipython",
    "version": 3
   },
   "file_extension": ".py",
   "mimetype": "text/x-python",
   "name": "python",
   "nbconvert_exporter": "python",
   "pygments_lexer": "ipython3",
   "version": "3.9.1"
  }
 },
 "nbformat": 4,
 "nbformat_minor": 5
}

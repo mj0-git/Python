{
 "cells": [
  {
   "cell_type": "code",
   "execution_count": 1,
   "id": "ad265b8f",
   "metadata": {},
   "outputs": [],
   "source": [
    "from IPython import display\n",
    "import math\n",
    "from pprint import pprint\n",
    "import pandas as pd\n",
    "import numpy as np\n",
    "import nltk\n",
    "import matplotlib.pyplot as plt\n",
    "import seaborn as sns\n",
    "import praw\n",
    "sns.set(style='darkgrid', context='talk', palette='Dark2')\n"
   ]
  },
  {
   "cell_type": "markdown",
   "id": "0b97d473",
   "metadata": {},
   "source": [
    "# Sentiment Analysis on r/CryptoCurrency\n",
    "\n",
    "As crypto markets tumble, lets use NTLK to detect sentiment on popular subreddit r/CryptoCurrency\n",
    "\n",
    "Link: https://www.reddit.com/r/CryptoCurrency/\n",
    "\n",
    "Will be scarpping the \"Hottest \" posts using praw - *note* we are limited to 1000 posts only\n",
    "\n",
    "Tutorial Reference: https://www.learndatasci.com/tutorials/sentiment-analysis-reddit-headlines-pythons-nltk/"
   ]
  },
  {
   "cell_type": "code",
   "execution_count": 2,
   "id": "5dcb2dfd",
   "metadata": {},
   "outputs": [],
   "source": [
    "reddit = praw.Reddit(client_id='######',\n",
    "                     client_secret='######',\n",
    "                     user_agent='######')"
   ]
  },
  {
   "cell_type": "markdown",
   "id": "fb048672",
   "metadata": {},
   "source": [
    "Query *r/CryptoCurrency* \"Hot\" posts and store headlines in Set object. \n",
    "\n",
    "Output the number of headlines queried (<1000)"
   ]
  },
  {
   "cell_type": "code",
   "execution_count": 14,
   "id": "157c9047",
   "metadata": {},
   "outputs": [
    {
     "name": "stdout",
     "output_type": "stream",
     "text": [
      "935\n"
     ]
    }
   ],
   "source": [
    "headlines = set()\n",
    "\n",
    "for submission in reddit.subreddit('CryptoCurrency').hot(limit=None):\n",
    "    headlines.add(submission.title)\n",
    "    display.clear_output()\n",
    "    print(len(headlines))"
   ]
  },
  {
   "cell_type": "markdown",
   "id": "99b75400",
   "metadata": {},
   "source": [
    "Iterate through headlines and apply *polarity_scores* to gauge sentiment\n",
    "\n",
    "- **neg** : Negative\n",
    "- **neu** : Neutral\n",
    "- **pos** : Positive\n",
    "- **compound** : Aggregate score\n"
   ]
  },
  {
   "cell_type": "code",
   "execution_count": 43,
   "id": "9348114e",
   "metadata": {
    "scrolled": true
   },
   "outputs": [
    {
     "name": "stdout",
     "output_type": "stream",
     "text": [
      "[{'compound': 0.0772,\n",
      "  'headline': 'Name the projects that won’t survive this current bear market/crash/dip/whatever '\n",
      "              'you want to call it…in your opinion?',\n",
      "  'neg': 0.0,\n",
      "  'neu': 0.925,\n",
      "  'pos': 0.075},\n",
      " {'compound': 0.0,\n",
      "  'headline': 'Can anybody add any advice on Koinly?',\n",
      "  'neg': 0.0,\n",
      "  'neu': 1.0,\n",
      "  'pos': 0.0},\n",
      " {'compound': 0.4404,\n",
      "  'headline': 'NFTs on various L1s and profit potential',\n",
      "  'neg': 0.0,\n",
      "  'neu': 0.674,\n",
      "  'pos': 0.326}]\n"
     ]
    }
   ],
   "source": [
    "from nltk.sentiment.vader import SentimentIntensityAnalyzer as SIA\n",
    "\n",
    "sia = SIA()\n",
    "results = []\n",
    "\n",
    "for line in headlines:\n",
    "    pol_score = sia.polarity_scores(line)\n",
    "    pol_score['headline'] = line\n",
    "    results.append(pol_score)\n",
    "\n",
    "pprint(results[:3], width=100)"
   ]
  },
  {
   "cell_type": "markdown",
   "id": "55c1c1a9",
   "metadata": {},
   "source": [
    "Convert to DataFrame for EDA"
   ]
  },
  {
   "cell_type": "code",
   "execution_count": 28,
   "id": "453dcda5",
   "metadata": {},
   "outputs": [
    {
     "data": {
      "text/html": [
       "<div>\n",
       "<style scoped>\n",
       "    .dataframe tbody tr th:only-of-type {\n",
       "        vertical-align: middle;\n",
       "    }\n",
       "\n",
       "    .dataframe tbody tr th {\n",
       "        vertical-align: top;\n",
       "    }\n",
       "\n",
       "    .dataframe thead th {\n",
       "        text-align: right;\n",
       "    }\n",
       "</style>\n",
       "<table border=\"1\" class=\"dataframe\">\n",
       "  <thead>\n",
       "    <tr style=\"text-align: right;\">\n",
       "      <th></th>\n",
       "      <th>neg</th>\n",
       "      <th>neu</th>\n",
       "      <th>pos</th>\n",
       "      <th>compound</th>\n",
       "    </tr>\n",
       "  </thead>\n",
       "  <tbody>\n",
       "    <tr>\n",
       "      <th>count</th>\n",
       "      <td>935.000000</td>\n",
       "      <td>935.000000</td>\n",
       "      <td>935.000000</td>\n",
       "      <td>935.000000</td>\n",
       "    </tr>\n",
       "    <tr>\n",
       "      <th>mean</th>\n",
       "      <td>0.059436</td>\n",
       "      <td>0.852686</td>\n",
       "      <td>0.087874</td>\n",
       "      <td>0.043589</td>\n",
       "    </tr>\n",
       "    <tr>\n",
       "      <th>std</th>\n",
       "      <td>0.119415</td>\n",
       "      <td>0.165016</td>\n",
       "      <td>0.132180</td>\n",
       "      <td>0.327829</td>\n",
       "    </tr>\n",
       "    <tr>\n",
       "      <th>min</th>\n",
       "      <td>0.000000</td>\n",
       "      <td>0.222000</td>\n",
       "      <td>0.000000</td>\n",
       "      <td>-0.922900</td>\n",
       "    </tr>\n",
       "    <tr>\n",
       "      <th>25%</th>\n",
       "      <td>0.000000</td>\n",
       "      <td>0.748000</td>\n",
       "      <td>0.000000</td>\n",
       "      <td>0.000000</td>\n",
       "    </tr>\n",
       "    <tr>\n",
       "      <th>50%</th>\n",
       "      <td>0.000000</td>\n",
       "      <td>0.886000</td>\n",
       "      <td>0.000000</td>\n",
       "      <td>0.000000</td>\n",
       "    </tr>\n",
       "    <tr>\n",
       "      <th>75%</th>\n",
       "      <td>0.067500</td>\n",
       "      <td>1.000000</td>\n",
       "      <td>0.164000</td>\n",
       "      <td>0.226300</td>\n",
       "    </tr>\n",
       "    <tr>\n",
       "      <th>max</th>\n",
       "      <td>0.767000</td>\n",
       "      <td>1.000000</td>\n",
       "      <td>0.778000</td>\n",
       "      <td>0.918600</td>\n",
       "    </tr>\n",
       "  </tbody>\n",
       "</table>\n",
       "</div>"
      ],
      "text/plain": [
       "              neg         neu         pos    compound\n",
       "count  935.000000  935.000000  935.000000  935.000000\n",
       "mean     0.059436    0.852686    0.087874    0.043589\n",
       "std      0.119415    0.165016    0.132180    0.327829\n",
       "min      0.000000    0.222000    0.000000   -0.922900\n",
       "25%      0.000000    0.748000    0.000000    0.000000\n",
       "50%      0.000000    0.886000    0.000000    0.000000\n",
       "75%      0.067500    1.000000    0.164000    0.226300\n",
       "max      0.767000    1.000000    0.778000    0.918600"
      ]
     },
     "execution_count": 28,
     "metadata": {},
     "output_type": "execute_result"
    }
   ],
   "source": [
    "df = pd.DataFrame.from_records(results)\n",
    "df.describe()"
   ]
  },
  {
   "cell_type": "markdown",
   "id": "e5b3b406",
   "metadata": {},
   "source": [
    "Set thresholds on compound score: \n",
    "\n",
    " - Compound > 0.2 $\\Rightarrow$ Positive\n",
    " - Compound < -0.2 $\\Rightarrow$ Negative\n",
    " - -0.2 < Compound < 0.2 $\\Rightarrow$  Neutral"
   ]
  },
  {
   "cell_type": "code",
   "execution_count": 29,
   "id": "d739e3c2",
   "metadata": {},
   "outputs": [
    {
     "data": {
      "text/html": [
       "<div>\n",
       "<style scoped>\n",
       "    .dataframe tbody tr th:only-of-type {\n",
       "        vertical-align: middle;\n",
       "    }\n",
       "\n",
       "    .dataframe tbody tr th {\n",
       "        vertical-align: top;\n",
       "    }\n",
       "\n",
       "    .dataframe thead th {\n",
       "        text-align: right;\n",
       "    }\n",
       "</style>\n",
       "<table border=\"1\" class=\"dataframe\">\n",
       "  <thead>\n",
       "    <tr style=\"text-align: right;\">\n",
       "      <th></th>\n",
       "      <th>neg</th>\n",
       "      <th>neu</th>\n",
       "      <th>pos</th>\n",
       "      <th>compound</th>\n",
       "      <th>headline</th>\n",
       "      <th>result</th>\n",
       "    </tr>\n",
       "  </thead>\n",
       "  <tbody>\n",
       "    <tr>\n",
       "      <th>0</th>\n",
       "      <td>0.0</td>\n",
       "      <td>0.925</td>\n",
       "      <td>0.075</td>\n",
       "      <td>0.0772</td>\n",
       "      <td>Name the projects that won’t survive this curr...</td>\n",
       "      <td>Neutral</td>\n",
       "    </tr>\n",
       "    <tr>\n",
       "      <th>1</th>\n",
       "      <td>0.0</td>\n",
       "      <td>1.000</td>\n",
       "      <td>0.000</td>\n",
       "      <td>0.0000</td>\n",
       "      <td>Can anybody add any advice on Koinly?</td>\n",
       "      <td>Neutral</td>\n",
       "    </tr>\n",
       "    <tr>\n",
       "      <th>2</th>\n",
       "      <td>0.0</td>\n",
       "      <td>0.674</td>\n",
       "      <td>0.326</td>\n",
       "      <td>0.4404</td>\n",
       "      <td>NFTs on various L1s and profit potential</td>\n",
       "      <td>Postive</td>\n",
       "    </tr>\n",
       "    <tr>\n",
       "      <th>3</th>\n",
       "      <td>0.0</td>\n",
       "      <td>1.000</td>\n",
       "      <td>0.000</td>\n",
       "      <td>0.0000</td>\n",
       "      <td>On today's episode of \"Buy the Rumor and Sell ...</td>\n",
       "      <td>Neutral</td>\n",
       "    </tr>\n",
       "    <tr>\n",
       "      <th>4</th>\n",
       "      <td>0.0</td>\n",
       "      <td>0.737</td>\n",
       "      <td>0.263</td>\n",
       "      <td>0.3612</td>\n",
       "      <td>Walmart Is Joining The Metaverse, Are We Ready?</td>\n",
       "      <td>Postive</td>\n",
       "    </tr>\n",
       "  </tbody>\n",
       "</table>\n",
       "</div>"
      ],
      "text/plain": [
       "   neg    neu    pos  compound  \\\n",
       "0  0.0  0.925  0.075    0.0772   \n",
       "1  0.0  1.000  0.000    0.0000   \n",
       "2  0.0  0.674  0.326    0.4404   \n",
       "3  0.0  1.000  0.000    0.0000   \n",
       "4  0.0  0.737  0.263    0.3612   \n",
       "\n",
       "                                            headline   result  \n",
       "0  Name the projects that won’t survive this curr...  Neutral  \n",
       "1              Can anybody add any advice on Koinly?  Neutral  \n",
       "2           NFTs on various L1s and profit potential  Postive  \n",
       "3  On today's episode of \"Buy the Rumor and Sell ...  Neutral  \n",
       "4    Walmart Is Joining The Metaverse, Are We Ready?  Postive  "
      ]
     },
     "execution_count": 29,
     "metadata": {},
     "output_type": "execute_result"
    }
   ],
   "source": [
    "df['result'] = \"Neutral\"\n",
    "df.loc[df['compound'] > 0.2, 'result'] = \"Postive\"\n",
    "df.loc[df['compound'] < -0.2, 'result'] = \"Negative\"\n",
    "df.head()"
   ]
  },
  {
   "cell_type": "markdown",
   "id": "b2693f62",
   "metadata": {},
   "source": [
    "## Sentiment Bar Chart "
   ]
  },
  {
   "cell_type": "code",
   "execution_count": 40,
   "id": "cdfb5e7f",
   "metadata": {},
   "outputs": [
    {
     "name": "stdout",
     "output_type": "stream",
     "text": [
      "Neutral     0.551872\n",
      "Postive     0.273797\n",
      "Negative    0.174332\n",
      "Name: result, dtype: float64\n"
     ]
    },
    {
     "data": {
      "text/plain": [
       "<AxesSubplot:ylabel='result'>"
      ]
     },
     "execution_count": 40,
     "metadata": {},
     "output_type": "execute_result"
    },
    {
     "data": {
      "image/png": "[encoded data removed]",
      "text/plain": [
       "<Figure size 432x288 with 1 Axes>"
      ]
     },
     "metadata": {},
     "output_type": "display_data"
    }
   ],
   "source": [
    "counts = df.result.value_counts(normalize=True)\n",
    "sns.barplot(x=counts.index, y=counts)"
   ]
  }
 ],
 "metadata": {
  "kernelspec": {
   "display_name": "Python 3 (ipykernel)",
   "language": "python",
   "name": "python3"
  },
  "language_info": {
   "codemirror_mode": {
    "name": "ipython",
    "version": 3
   },
   "file_extension": ".py",
   "mimetype": "text/x-python",
   "name": "python",
   "nbconvert_exporter": "python",
   "pygments_lexer": "ipython3",
   "version": "3.9.7"
  }
 },
 "nbformat": 4,
 "nbformat_minor": 5
}
